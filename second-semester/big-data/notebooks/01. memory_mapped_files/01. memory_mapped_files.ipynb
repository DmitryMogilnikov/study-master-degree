{
 "cells": [
  {
   "attachments": {},
   "cell_type": "markdown",
   "metadata": {},
   "source": [
    "## Task 1. Генерация бинарного файла"
   ]
  },
  {
   "attachments": {},
   "cell_type": "markdown",
   "metadata": {},
   "source": [
    "Бинарный файл состоящий из одного 32-разрядного числа весит 4 байта, т.к. 32 / 8 = 4. \n",
    "\n",
    "1Гб = 2^30 байт. \n",
    "\n",
    "Для того, чтобы получить файл размером в 2 Гб нужно 2^29 чисел."
   ]
  },
  {
   "cell_type": "code",
   "execution_count": 1,
   "metadata": {},
   "outputs": [],
   "source": [
    "import os\n",
    "import sys\n",
    "sys.path.insert(0, \"/home/dmitry/Desktop/BigData/\")\n",
    "\n",
    "from multiprocessing import Pool\n",
    "import mmap\n",
    "\n",
    "import numpy as np\n",
    "from src.utils.timer import timer"
   ]
  },
  {
   "cell_type": "code",
   "execution_count": 2,
   "metadata": {},
   "outputs": [],
   "source": [
    "file_name = \"binary_uint32.txt\"\n",
    "array_size = 2**29\n",
    "\n",
    "def get_numbers_array(highest_number: int, array_size: int) -> np.ndarray:\n",
    "    return np.random.randint(\n",
    "        low=0,\n",
    "        high=highest_number,\n",
    "        size=array_size,\n",
    "        dtype=np.dtype('uint32')\n",
    "    ).newbyteorder(\"big\")\n",
    "\n",
    "\n",
    "def generate_file(file_name: str, array_size: int = 20, bit_depth: int = 32) -> None:\n",
    "    numbers = get_numbers_array(2**bit_depth, array_size=array_size)\n",
    "    with open(file_name, 'wb') as f:\n",
    "        f.write(numbers.tobytes())\n",
    "\n",
    "\n",
    "generate_file(file_name=file_name, array_size=array_size)"
   ]
  },
  {
   "attachments": {},
   "cell_type": "markdown",
   "metadata": {},
   "source": [
    "## Task 2. Найти сумму этих чисел, минимальное и максимальное число."
   ]
  },
  {
   "attachments": {},
   "cell_type": "markdown",
   "metadata": {},
   "source": [
    "### Простое последовательное чтение "
   ]
  },
  {
   "cell_type": "code",
   "execution_count": 3,
   "metadata": {},
   "outputs": [],
   "source": [
    "def counter(array: np.ndarray) -> dict:\n",
    "    sum_numbers = 0\n",
    "    max_number = -float(\"inf\")\n",
    "    min_number = float(\"inf\")\n",
    "\n",
    "    for elem in array:\n",
    "        sum_numbers += elem\n",
    "        if elem > max_number:\n",
    "            max_number = elem\n",
    "        if elem < min_number:\n",
    "            min_number = elem\n",
    "    \n",
    "    return {\n",
    "        \"sum_numbers\": sum_numbers, \n",
    "        \"max_number\": max_number,\n",
    "        \"min_number\": min_number,\n",
    "    }\n",
    "\n",
    "def counter_numpy(array: np.ndarray) -> dict:   \n",
    "    return {\n",
    "        \"sum_numbers\": np.sum(array, dtype=\"int64\"), \n",
    "        \"max_number\": array.max(),\n",
    "        \"min_number\": array.min(),\n",
    "    }"
   ]
  },
  {
   "cell_type": "code",
   "execution_count": 4,
   "metadata": {},
   "outputs": [],
   "source": [
    "@timer\n",
    "def base_reading(file_name: str) -> dict:\n",
    "    with open(file_name, \"rb\") as file:      \n",
    "        buffer = file.read()\n",
    "        tmp_array = np.frombuffer(buffer, dtype = np.dtype('uint32').newbyteorder('big'))\n",
    "\n",
    "    return counter(tmp_array)"
   ]
  },
  {
   "cell_type": "code",
   "execution_count": 5,
   "metadata": {},
   "outputs": [],
   "source": [
    "@timer\n",
    "def base_reading_numpy(file_name: str) -> dict:\n",
    "    with open(file_name, \"rb\") as file:      \n",
    "        buffer = file.read()\n",
    "        tmp_array = np.frombuffer(buffer, dtype = np.dtype('uint32').newbyteorder('big'))\n",
    "\n",
    "    return counter_numpy(tmp_array)"
   ]
  },
  {
   "attachments": {},
   "cell_type": "markdown",
   "metadata": {},
   "source": [
    "## С использованием memory-mapped files"
   ]
  },
  {
   "cell_type": "code",
   "execution_count": 6,
   "metadata": {},
   "outputs": [],
   "source": [
    "@timer\n",
    "def mm_reading(file_name: str) -> dict:\n",
    "    with open(file_name, \"r+b\") as file:\n",
    "        mm = mmap.mmap(file.fileno(), length=array_size * 4, offset=0, access=mmap.ACCESS_READ)\n",
    "        tmp_array = np.frombuffer(mm, dtype = np.dtype('uint32').newbyteorder('big'))\n",
    "\n",
    "    return counter(tmp_array)"
   ]
  },
  {
   "cell_type": "code",
   "execution_count": 7,
   "metadata": {},
   "outputs": [],
   "source": [
    "@timer\n",
    "def mm_reading_numpy(file_name: str) -> dict:\n",
    "    with open(file_name, \"r+b\") as file:\n",
    "        file_size = os.path.getsize(file_name)\n",
    "        mm = mmap.mmap(file.fileno(), length=file_size, offset=0, access=mmap.ACCESS_READ)\n",
    "        tmp_array = np.frombuffer(mm, dtype = np.dtype('uint32').newbyteorder('big'))\n",
    "\n",
    "    return counter_numpy(tmp_array)"
   ]
  },
  {
   "attachments": {},
   "cell_type": "markdown",
   "metadata": {},
   "source": [
    "## + С использованием многопоточности"
   ]
  },
  {
   "cell_type": "code",
   "execution_count": 8,
   "metadata": {},
   "outputs": [],
   "source": [
    "@timer\n",
    "def mm_reading_multithread(file_name: str, num_processes: int = 4) -> dict:\n",
    "    with open(file_name, \"r+b\") as file:\n",
    "        file_size = os.path.getsize(file_name)\n",
    "        mm = mmap.mmap(file.fileno(), length=file_size, offset=0, access=mmap.ACCESS_READ)\n",
    "        tmp_array = np.frombuffer(mm, dtype=np.dtype('uint32').newbyteorder('big'))\n",
    "\n",
    "    chunks = np.array_split(tmp_array, num_processes)\n",
    "\n",
    "    with Pool(processes=num_processes) as pool:\n",
    "        results = pool.map(counter, chunks)\n",
    "\n",
    "    sum_numbers = sum(result[\"sum_numbers\"] for result in results)\n",
    "    max_number = max(result[\"max_number\"] for result in results)\n",
    "    min_number = min(result[\"min_number\"] for result in results)\n",
    "\n",
    "    return {\n",
    "        \"sum_numbers\": sum_numbers, \n",
    "        \"max_number\": max_number,\n",
    "        \"min_number\": min_number,\n",
    "    }"
   ]
  },
  {
   "cell_type": "code",
   "execution_count": 9,
   "metadata": {},
   "outputs": [],
   "source": [
    "@timer\n",
    "def mm_reading_multithread_numpy(file_name: str, num_processes: int = 4) -> dict:\n",
    "    with open(file_name, \"r+b\") as file:\n",
    "        file_size = os.path.getsize(file_name)\n",
    "        mm = mmap.mmap(file.fileno(), length=file_size, offset=0, access=mmap.ACCESS_READ)\n",
    "        tmp_array = np.frombuffer(mm, dtype=np.dtype('uint32').newbyteorder('big'))\n",
    "\n",
    "    chunks = np.array_split(tmp_array, num_processes)\n",
    "\n",
    "    with Pool(processes=num_processes) as pool:\n",
    "        results = pool.map(counter_numpy, chunks)\n",
    "\n",
    "    sum_numbers = sum(result[\"sum_numbers\"] for result in results)\n",
    "    max_number = max(result[\"max_number\"] for result in results)\n",
    "    min_number = min(result[\"min_number\"] for result in results)\n",
    "\n",
    "    return {\n",
    "        \"sum_numbers\": sum_numbers, \n",
    "        \"max_number\": max_number,\n",
    "        \"min_number\": min_number,\n",
    "    }"
   ]
  },
  {
   "attachments": {},
   "cell_type": "markdown",
   "metadata": {},
   "source": [
    "## Сравнение результатов"
   ]
  },
  {
   "attachments": {},
   "cell_type": "markdown",
   "metadata": {},
   "source": [
    "Простое последовательное чтение"
   ]
  },
  {
   "cell_type": "code",
   "execution_count": 10,
   "metadata": {},
   "outputs": [
    {
     "name": "stdout",
     "output_type": "stream",
     "text": [
      "base_reading took 170.5219 secs\n"
     ]
    },
    {
     "data": {
      "text/plain": [
       "{'sum_numbers': 1152860411457095218, 'max_number': 4294967287, 'min_number': 6}"
      ]
     },
     "execution_count": 10,
     "metadata": {},
     "output_type": "execute_result"
    }
   ],
   "source": [
    "base_reading(\"binary_uint32.txt\")"
   ]
  },
  {
   "attachments": {},
   "cell_type": "markdown",
   "metadata": {},
   "source": [
    "memory-mapped files без numpy"
   ]
  },
  {
   "cell_type": "code",
   "execution_count": 11,
   "metadata": {},
   "outputs": [
    {
     "name": "stdout",
     "output_type": "stream",
     "text": [
      "mm_reading took 163.4505 secs\n"
     ]
    },
    {
     "data": {
      "text/plain": [
       "{'sum_numbers': 1152860411457095218, 'max_number': 4294967287, 'min_number': 6}"
      ]
     },
     "execution_count": 11,
     "metadata": {},
     "output_type": "execute_result"
    }
   ],
   "source": [
    "mm_reading(\"binary_uint32.txt\")"
   ]
  },
  {
   "attachments": {},
   "cell_type": "markdown",
   "metadata": {},
   "source": [
    "memory-mapped files + многопоточность без numpy"
   ]
  },
  {
   "cell_type": "code",
   "execution_count": 12,
   "metadata": {},
   "outputs": [
    {
     "name": "stdout",
     "output_type": "stream",
     "text": [
      "mm_reading_multithread took 68.2823 secs\n"
     ]
    },
    {
     "data": {
      "text/plain": [
       "{'sum_numbers': 1152860411457095218, 'max_number': 4294967287, 'min_number': 6}"
      ]
     },
     "execution_count": 12,
     "metadata": {},
     "output_type": "execute_result"
    }
   ],
   "source": [
    "mm_reading_multithread(\"binary_uint32.txt\")"
   ]
  },
  {
   "attachments": {},
   "cell_type": "markdown",
   "metadata": {},
   "source": [
    "Последовательное чтение с использованием numpy"
   ]
  },
  {
   "cell_type": "code",
   "execution_count": 13,
   "metadata": {},
   "outputs": [
    {
     "name": "stdout",
     "output_type": "stream",
     "text": [
      "base_reading_numpy took 7.1793 secs\n"
     ]
    },
    {
     "data": {
      "text/plain": [
       "{'sum_numbers': 1152860411457095218, 'max_number': 4294967287, 'min_number': 6}"
      ]
     },
     "execution_count": 13,
     "metadata": {},
     "output_type": "execute_result"
    }
   ],
   "source": [
    "base_reading_numpy(\"binary_uint32.txt\")"
   ]
  },
  {
   "attachments": {},
   "cell_type": "markdown",
   "metadata": {},
   "source": [
    "memory-mapped files c numpy"
   ]
  },
  {
   "cell_type": "code",
   "execution_count": 14,
   "metadata": {},
   "outputs": [
    {
     "name": "stdout",
     "output_type": "stream",
     "text": [
      "mm_reading_numpy took 3.8582 secs\n"
     ]
    },
    {
     "data": {
      "text/plain": [
       "{'sum_numbers': 1152860411457095218, 'max_number': 4294967287, 'min_number': 6}"
      ]
     },
     "execution_count": 14,
     "metadata": {},
     "output_type": "execute_result"
    }
   ],
   "source": [
    "mm_reading_numpy(\"binary_uint32.txt\")"
   ]
  },
  {
   "attachments": {},
   "cell_type": "markdown",
   "metadata": {},
   "source": [
    "memory-mapped files + многопоточность с numpy"
   ]
  },
  {
   "cell_type": "code",
   "execution_count": 15,
   "metadata": {},
   "outputs": [
    {
     "name": "stdout",
     "output_type": "stream",
     "text": [
      "mm_reading_multithread_numpy took 15.9251 secs\n"
     ]
    },
    {
     "data": {
      "text/plain": [
       "{'sum_numbers': 1152860411457095218, 'max_number': 4294967287, 'min_number': 6}"
      ]
     },
     "execution_count": 15,
     "metadata": {},
     "output_type": "execute_result"
    }
   ],
   "source": [
    "mm_reading_multithread_numpy(\"binary_uint32.txt\")"
   ]
  }
 ],
 "metadata": {
  "kernelspec": {
   "display_name": "Python 3",
   "language": "python",
   "name": "python3"
  },
  "language_info": {
   "codemirror_mode": {
    "name": "ipython",
    "version": 3
   },
   "file_extension": ".py",
   "mimetype": "text/x-python",
   "name": "python",
   "nbconvert_exporter": "python",
   "pygments_lexer": "ipython3",
   "version": "3.10.6"
  },
  "orig_nbformat": 4
 },
 "nbformat": 4,
 "nbformat_minor": 2
}
