{
 "cells": [
  {
   "cell_type": "code",
   "execution_count": 28,
   "metadata": {},
   "outputs": [],
   "source": [
    "from pyspark.sql import SparkSession\n",
    "import pyspark.sql.functions as func"
   ]
  },
  {
   "cell_type": "code",
   "execution_count": 29,
   "metadata": {},
   "outputs": [
    {
     "name": "stderr",
     "output_type": "stream",
     "text": [
      "                                                                                \r"
     ]
    }
   ],
   "source": [
    "spark = SparkSession.builder.appName(\"Processing Articles\").getOrCreate()\n",
    "\n",
    "df = spark.read \\\n",
    "    .option(\"header\", False) \\\n",
    "    .option(\"delimiter\", \"\\t\") \\\n",
    "    .option(\"inferSchema\", True) \\\n",
    "    .csv(\"wiki.txt\") \\\n",
    "    .toDF(\"url\", \"title\", \"text\")"
   ]
  },
  {
   "cell_type": "code",
   "execution_count": 30,
   "metadata": {},
   "outputs": [
    {
     "name": "stdout",
     "output_type": "stream",
     "text": [
      "+--------------------+--------------------+--------------------+\n",
      "|                 url|               title|                text|\n",
      "+--------------------+--------------------+--------------------+\n",
      "|http://ru.wikiped...|               Литва|Литва  Литва́ (),...|\n",
      "|http://ru.wikiped...|              Россия|Россия  Росси́я (...|\n",
      "|http://ru.wikiped...|            Слоновые|Слоновые  Слоно́в...|\n",
      "|http://ru.wikiped...|             Мамонты|Мамонты  Ма́монты...|\n",
      "|http://ru.wikiped...|       Красная книга|Красная книга  Пе...|\n",
      "|http://ru.wikiped...|           Соционика|Соционика  Социо́...|\n",
      "|http://ru.wikiped...|               Школа|Школа  Первоначал...|\n",
      "|http://ru.wikiped...|         Лингвистика|Лингвистика  Линг...|\n",
      "|http://ru.wikiped...|          Социология|Социология  Социо...|\n",
      "|http://ru.wikiped...|Древнерусское гос...|Древнерусское гос...|\n",
      "+--------------------+--------------------+--------------------+\n",
      "only showing top 10 rows\n",
      "\n"
     ]
    }
   ],
   "source": [
    "df.show(10)"
   ]
  },
  {
   "attachments": {},
   "cell_type": "markdown",
   "metadata": {},
   "source": [
    "### 1. Напишите программу, которая находит самое длинное слово."
   ]
  },
  {
   "attachments": {},
   "cell_type": "markdown",
   "metadata": {},
   "source": [
    "На неочищеном от ссылок датасете, самое длинное слово явзяется ссылкой"
   ]
  },
  {
   "cell_type": "code",
   "execution_count": 31,
   "metadata": {},
   "outputs": [
    {
     "name": "stderr",
     "output_type": "stream",
     "text": [
      "[Stage 110:=======>                                                 (1 + 7) / 8]\r"
     ]
    },
    {
     "name": "stdout",
     "output_type": "stream",
     "text": [
      "Самое длинное слово: [https://ru.wikipedia.org/wiki/%D0%9C%D0%B5%D1%85%D0%B0%D0%BD%D0%B8%D0%BA%D0%B0_%D0%BA%D0%BE%D0%BD%D1%82%D0%B0%D0%BA%D1%82%D0%BD%D0%BE%D0%B3%D0%BE_%D0%B2%D0%B7%D0%B0%D0%B8%D0%BC%D0%BE%D0%B4%D0%B5%D0%B9%D1%81%D1%82%D0%B2%D0%B8%D1%8F#.D0.AD.D0.BD.D0.B5.D1.80.D0.B3.D0.B8.D1.8F_.D0.BF.D1.80.D0.B8_.D1.83.D0.BF.D1.80.D1.83.D0.B3.D0.BE.D0.BC_.D0.BA.D0.BE.D0.BD.D1.82.D0.B0.D0.BA.D1.82.D0.B5]\n"
     ]
    },
    {
     "name": "stderr",
     "output_type": "stream",
     "text": [
      "                                                                                \r"
     ]
    }
   ],
   "source": [
    "longest_word = df.select(func.split(\"text\", \"\\s+\").alias(\"words\")) \\\n",
    "                 .selectExpr(\"explode(words) as word\") \\\n",
    "                 .select(func.length(\"word\").alias(\"word_length\"), \"word\") \\\n",
    "                 .orderBy(func.desc(\"word_length\")) \\\n",
    "                 .select(\"word\") \\\n",
    "                 .first()[0]\n",
    "\n",
    "print(\"Самое длинное слово: {}\".format(longest_word))"
   ]
  },
  {
   "attachments": {},
   "cell_type": "markdown",
   "metadata": {},
   "source": [
    "Отчистим датасет от ссылок, получили самым длинным словом химический термин. Дальше буду работать с данными без ссылок"
   ]
  },
  {
   "cell_type": "code",
   "execution_count": 32,
   "metadata": {},
   "outputs": [
    {
     "name": "stderr",
     "output_type": "stream",
     "text": [
      "[Stage 111:===================================>                     (5 + 3) / 8]\r"
     ]
    },
    {
     "name": "stdout",
     "output_type": "stream",
     "text": [
      "Самое длинное слово: 10-[3-[4-(2-гидроксиэтил)пиперидин-1-ил]пропил]-N,N-диметилфенотиазин-2-сульфонамид.\n"
     ]
    },
    {
     "name": "stderr",
     "output_type": "stream",
     "text": [
      "                                                                                \r"
     ]
    }
   ],
   "source": [
    "clean_text = df.withColumn(\"text\", func.regexp_replace(\"text\", r'http[s]?://\\S+', \"\"))\n",
    "clean_text = clean_text.withColumn(\"text\", func.regexp_replace(\"text\", r'http[s]?://\\S+', \"\"))\n",
    "words = clean_text.select(func.split(\"text\", \"\\s+\").alias(\"words\")) \\\n",
    "                  .selectExpr(\"explode(words) as word\")\n",
    "\n",
    "longest_word = words.select(func.length(\"word\").alias(\"word_length\"), \"word\") \\\n",
    "                    .orderBy(func.desc(\"word_length\")) \\\n",
    "                    .select(\"word\") \\\n",
    "                    .first()[0]\n",
    "\n",
    "print(\"Самое длинное слово: {}\".format(longest_word))\n"
   ]
  },
  {
   "attachments": {},
   "cell_type": "markdown",
   "metadata": {},
   "source": [
    "### 2. Напишите программу, которая находит среднюю длину слов. "
   ]
  },
  {
   "cell_type": "code",
   "execution_count": 33,
   "metadata": {},
   "outputs": [
    {
     "name": "stderr",
     "output_type": "stream",
     "text": [
      "[Stage 112:=======>                                                 (1 + 7) / 8]\r"
     ]
    },
    {
     "name": "stdout",
     "output_type": "stream",
     "text": [
      "Средняя длина слова: 6.53011518849989\n"
     ]
    },
    {
     "name": "stderr",
     "output_type": "stream",
     "text": [
      "                                                                                \r"
     ]
    }
   ],
   "source": [
    "avg_word_length = words.select(func.sum(func.length(\"word\")).alias(\"total_length\"), func.count(\"word\").alias(\"count_words\")) \\\n",
    "                       .select((func.col(\"total_length\") / func.col(\"count_words\")).alias(\"avg_length\")).collect()[0][0]\n",
    "\n",
    "print(\"Средняя длина слова:\", avg_word_length)"
   ]
  },
  {
   "attachments": {},
   "cell_type": "markdown",
   "metadata": {},
   "source": [
    "### 3. Напишите программу, которая находит самое частоупотребляемое слово, состоящее из латинских букв."
   ]
  },
  {
   "cell_type": "code",
   "execution_count": 34,
   "metadata": {},
   "outputs": [],
   "source": [
    "latin_words = words.select(func.regexp_extract(\"word\", \"[a-zA-Z]+\", 0).alias(\"latin_word\")) \\\n",
    "                   .filter(func.col(\"latin_word\") != \"\")"
   ]
  },
  {
   "cell_type": "code",
   "execution_count": 35,
   "metadata": {},
   "outputs": [
    {
     "name": "stderr",
     "output_type": "stream",
     "text": [
      "[Stage 115:=================================================>       (7 + 1) / 8]\r"
     ]
    },
    {
     "name": "stdout",
     "output_type": "stream",
     "text": [
      "+----------+-----+\n",
      "|latin_word|count|\n",
      "+----------+-----+\n",
      "|   formula|11587|\n",
      "|         c| 4905|\n",
      "|         i| 4753|\n",
      "|        ii| 3723|\n",
      "|       xix| 3040|\n",
      "|        xx| 2896|\n",
      "|       the| 2397|\n",
      "|       iii| 2035|\n",
      "|         x| 1828|\n",
      "|         a| 1728|\n",
      "|     xviii| 1717|\n",
      "|         d| 1333|\n",
      "|         v| 1326|\n",
      "|      xvii| 1294|\n",
      "|        iv| 1200|\n",
      "|       xvi| 1172|\n",
      "|         n| 1164|\n",
      "|        of| 1120|\n",
      "|         b| 1081|\n",
      "|    codice| 1037|\n",
      "+----------+-----+\n",
      "only showing top 20 rows\n",
      "\n"
     ]
    },
    {
     "name": "stderr",
     "output_type": "stream",
     "text": [
      "                                                                                \r"
     ]
    }
   ],
   "source": [
    "desc_frequency_words = latin_words.select(func.lower(\"latin_word\").alias(\"latin_word\")) \\\n",
    "                                  .groupBy(\"latin_word\").count() \\\n",
    "                                  .orderBy(func.col(\"count\").desc())\n",
    "\n",
    "desc_frequency_words.show()"
   ]
  },
  {
   "cell_type": "code",
   "execution_count": 36,
   "metadata": {},
   "outputs": [
    {
     "name": "stderr",
     "output_type": "stream",
     "text": [
      "                                                                                \r"
     ]
    },
    {
     "name": "stdout",
     "output_type": "stream",
     "text": [
      "Самое частое латинское слово: formula\n"
     ]
    }
   ],
   "source": [
    "most_common_word = desc_frequency_words.select(\"latin_word\").first()[0]\n",
    "\n",
    "print(\"Самое частое латинское слово:\", most_common_word)"
   ]
  },
  {
   "attachments": {},
   "cell_type": "markdown",
   "metadata": {},
   "source": [
    "### 4. Все слова, которые более чем в половине случаев начинаются с большой буквы и встречаются больше 10 раз."
   ]
  },
  {
   "cell_type": "code",
   "execution_count": 37,
   "metadata": {},
   "outputs": [],
   "source": [
    "capitalize_words_count = words.filter(func.regexp_extract(\"word\", r\"^[А-ЯA-Z]\", 0) != \"\") \\\n",
    "                              .groupBy(\"word\").agg(func.count(\"*\").alias(\"capitalize_words_count\")) \\\n",
    "                              .orderBy((func.col(\"capitalize_words_count\").desc()))"
   ]
  },
  {
   "cell_type": "code",
   "execution_count": 38,
   "metadata": {},
   "outputs": [],
   "source": [
    "all_words_count = words.select(func.lower(\"word\").alias(\"word\")) \\\n",
    "                               .groupBy(\"word\").agg(func.count(\"*\").alias(\"all_words_count\")) \\\n",
    "                               .orderBy(func.col(\"all_words_count\").desc())"
   ]
  },
  {
   "cell_type": "code",
   "execution_count": 39,
   "metadata": {},
   "outputs": [],
   "source": [
    "matching_words = all_words_count.join(capitalize_words_count,\n",
    "                                      all_words_count[\"word\"] == func.lower(capitalize_words_count[\"word\"]),\n",
    "                                      \"inner\") \\\n",
    "                                .select(\n",
    "                                    all_words_count[\"word\"],\n",
    "                                    all_words_count[\"all_words_count\"],\n",
    "                                    capitalize_words_count[\"capitalize_words_count\"])"
   ]
  },
  {
   "cell_type": "code",
   "execution_count": 40,
   "metadata": {},
   "outputs": [
    {
     "name": "stderr",
     "output_type": "stream",
     "text": [
      "[Stage 128:>                                                        (0 + 8) / 8]\r"
     ]
    },
    {
     "name": "stdout",
     "output_type": "stream",
     "text": [
      "+----------+---------------+----------------------+\n",
      "|      word|all_words_count|capitalize_words_count|\n",
      "+----------+---------------+----------------------+\n",
      "|    россии|           5161|                  5159|\n",
      "|    однако|           7804|                  4370|\n",
      "|      ссср|           3809|                  3809|\n",
      "|       сша|           3108|                  3108|\n",
      "|российской|           3200|                  2749|\n",
      "|     кроме|           3937|                  2714|\n",
      "|        xx|           2659|                  2659|\n",
      "|         i|           2593|                  2505|\n",
      "|       xix|           2489|                  2489|\n",
      "|  согласно|           3983|                  2310|\n",
      "|        ii|           2243|                  2242|\n",
      "|      так,|           2188|                  1619|\n",
      "|     таким|           2957|                  1586|\n",
      "|        а.|           1643|                  1570|\n",
      "|    совета|           2099|                  1491|\n",
      "|   россии.|           1429|                  1429|\n",
      "|   россии,|           1383|                  1383|\n",
      "|     xviii|           1325|                  1325|\n",
      "|республики|           1957|                  1286|\n",
      "|  несмотря|           2170|                  1255|\n",
      "+----------+---------------+----------------------+\n",
      "only showing top 20 rows\n",
      "\n"
     ]
    },
    {
     "name": "stderr",
     "output_type": "stream",
     "text": [
      "                                                                                \r"
     ]
    }
   ],
   "source": [
    "#Создаем SQL-представление, также будем использовать в задании №7\n",
    "matching_words.createOrReplaceTempView(\"words\")\n",
    "\n",
    "# Выполняем SQL-запрос\n",
    "result = spark.sql('''\n",
    "    SELECT *\n",
    "    FROM words\n",
    "    WHERE capitalize_words_count > all_words_count / 2\n",
    "    ORDER BY capitalize_words_count DESC\n",
    "''')\n",
    "\n",
    "# Выводим результат\n",
    "result.show()"
   ]
  },
  {
   "attachments": {},
   "cell_type": "markdown",
   "metadata": {},
   "source": [
    "### 5. Напишите программу, которая с помощью статистики определяет устойчивые сокращения вида `пр.`, `др.`, ..."
   ]
  },
  {
   "cell_type": "code",
   "execution_count": 41,
   "metadata": {},
   "outputs": [],
   "source": [
    "clean_words = words.withColumn(\"word\", func.regexp_replace(\"word\", \"[^а-яА-Я0-9.\\\\s]\", \"\")) \\\n",
    "                   .filter(func.col(\"word\") != \"\")"
   ]
  },
  {
   "cell_type": "code",
   "execution_count": 42,
   "metadata": {},
   "outputs": [
    {
     "name": "stderr",
     "output_type": "stream",
     "text": [
      "[Stage 132:=================================================>       (7 + 1) / 8]\r"
     ]
    },
    {
     "name": "stdout",
     "output_type": "stream",
     "text": [
      "+----+\n",
      "|word|\n",
      "+----+\n",
      "| гг.|\n",
      "|год.|\n",
      "| ст.|\n",
      "| км.|\n",
      "| ул.|\n",
      "| им.|\n",
      "| св.|\n",
      "| вв.|\n",
      "| др.|\n",
      "|сша.|\n",
      "|руб.|\n",
      "|век.|\n",
      "|чел.|\n",
      "| см.|\n",
      "|тыс.|\n",
      "|лет.|\n",
      "+----+\n",
      "\n"
     ]
    },
    {
     "name": "stderr",
     "output_type": "stream",
     "text": [
      "                                                                                \r"
     ]
    }
   ],
   "source": [
    "abbr_words = clean_words.select(func.lower(\"word\").alias(\"word\")) \\\n",
    "                        .filter(func.regexp_extract(\"word\", r\"([^.][а-я]*[^.]\\.$)\", 1) != \"\") \\\n",
    "                        .select(\"word\", (func.length('word').alias(\"length\"))) \\\n",
    "                        .groupBy(\"word\").count()\n",
    "\n",
    "percentile = abbr_words.approxQuantile(\"count\", [0.9995], 0)[0]\n",
    "abbr_words = abbr_words.select(\"word\").where((func.col(\"count\") > percentile) & (func.length(\"word\") <= 4))\n",
    "\n",
    "abbr_words.show()"
   ]
  },
  {
   "attachments": {},
   "cell_type": "markdown",
   "metadata": {},
   "source": [
    "### 7. Напишите программу, которая с помощью статистики находит имена, употребляющиеся в статьях. "
   ]
  },
  {
   "attachments": {},
   "cell_type": "markdown",
   "metadata": {},
   "source": [
    "Используем SQL представление из 4-го задания, имена начинаются с большой буквы, потому меняем условие, при котором происходит отбор слов"
   ]
  },
  {
   "cell_type": "code",
   "execution_count": 43,
   "metadata": {},
   "outputs": [
    {
     "name": "stderr",
     "output_type": "stream",
     "text": [
      "[Stage 145:=================================================>       (7 + 1) / 8]\r"
     ]
    },
    {
     "name": "stdout",
     "output_type": "stream",
     "text": [
      "+---------+---------------+----------------------+\n",
      "|     word|all_words_count|capitalize_words_count|\n",
      "+---------+---------------+----------------------+\n",
      "|     ссср|           3809|                  3809|\n",
      "|      сша|           3108|                  3108|\n",
      "|       xx|           2659|                  2659|\n",
      "|      xix|           2489|                  2489|\n",
      "|  россии.|           1429|                  1429|\n",
      "|  россии,|           1383|                  1383|\n",
      "|    xviii|           1325|                  1325|\n",
      "|александр|           1188|                  1188|\n",
      "|  украины|           1160|                  1160|\n",
      "|     сша,|            987|                   987|\n",
      "|    ссср.|            962|                   962|\n",
      "|     xvii|            955|                   955|\n",
      "|   москве|            930|                   930|\n",
      "|       рф|            874|                   874|\n",
      "|     сша.|            862|                   862|\n",
      "|  франции|            855|                   855|\n",
      "|      оао|            848|                   848|\n",
      "|    ссср,|            847|                   847|\n",
      "|      xvi|            828|                   828|\n",
      "| владимир|            817|                   817|\n",
      "+---------+---------------+----------------------+\n",
      "only showing top 20 rows\n",
      "\n"
     ]
    },
    {
     "name": "stderr",
     "output_type": "stream",
     "text": [
      "                                                                                \r"
     ]
    }
   ],
   "source": [
    "result = spark.sql('''\n",
    "    SELECT *\n",
    "    FROM words\n",
    "    WHERE capitalize_words_count == all_words_count\n",
    "    ORDER BY capitalize_words_count DESC\n",
    "''')\n",
    "\n",
    "result.show()"
   ]
  },
  {
   "cell_type": "code",
   "execution_count": null,
   "metadata": {},
   "outputs": [],
   "source": []
  }
 ],
 "metadata": {
  "kernelspec": {
   "display_name": "Python 3",
   "language": "python",
   "name": "python3"
  },
  "language_info": {
   "codemirror_mode": {
    "name": "ipython",
    "version": 3
   },
   "file_extension": ".py",
   "mimetype": "text/x-python",
   "name": "python",
   "nbconvert_exporter": "python",
   "pygments_lexer": "ipython3",
   "version": "3.10.6"
  },
  "orig_nbformat": 4
 },
 "nbformat": 4,
 "nbformat_minor": 2
}
