{
 "cells": [
  {
   "attachments": {},
   "cell_type": "markdown",
   "metadata": {},
   "source": [
    "## Task 1. Генерация файла \n",
    "Нужно сгенерировать файл, содержащий 5000 32-битных случайных целых чисел, каждое число на отдельной строке. содержащий 5000 32-битных случайных целых чисел, каждое число на отдельной строке. "
   ]
  },
  {
   "cell_type": "code",
   "execution_count": 35,
   "metadata": {},
   "outputs": [],
   "source": [
    "import sys\n",
    "sys.path.insert(0, \"/home/dmitry/Desktop/BigData/\")\n",
    "\n",
    "import random\n",
    "from multiprocessing import Pool, Manager\n",
    "\n",
    "import ray\n",
    "import dask.bag as db\n",
    "from pyspark import SparkContext, SparkConf\n",
    "from src.utils.timer import timer"
   ]
  },
  {
   "cell_type": "code",
   "execution_count": 36,
   "metadata": {},
   "outputs": [],
   "source": [
    "file_name = \"random_numbers32.txt\"\n",
    "\n",
    "with open(file_name, \"w\") as f:\n",
    "    for i in range(5000):\n",
    "        random_number = random.randint(0, 2**32 - 1)\n",
    "        f.write(str(random_number) + \"\\n\")"
   ]
  },
  {
   "attachments": {},
   "cell_type": "markdown",
   "metadata": {},
   "source": [
    "## Task 2. Посчитать, какое суммарное количество простых множителей присутствует при факторизации всех чисел."
   ]
  },
  {
   "cell_type": "code",
   "execution_count": 37,
   "metadata": {},
   "outputs": [],
   "source": [
    "def factorize(n):\n",
    "    factors = []\n",
    "    i = 2\n",
    "    while i * i <= n:\n",
    "        if n % i:\n",
    "            i += 1\n",
    "        else:\n",
    "            n //= i\n",
    "            factors.append(i)\n",
    "    if n > 1:\n",
    "        factors.append(n)\n",
    "    return factors"
   ]
  },
  {
   "attachments": {},
   "cell_type": "markdown",
   "metadata": {},
   "source": [
    "## Task 3. Реализовать подсчет \n",
    "    - простым последовательным алгоритмом\n",
    "    - многопоточно (на CPython - multiprocessing), с использованием примитивов синхронизации \n",
    "    - с помощью Ray/Dask/PySpark\n",
    "    - (*) с использованием Go (go-рутин) / корутин на Kotlin"
   ]
  },
  {
   "attachments": {},
   "cell_type": "markdown",
   "metadata": {},
   "source": [
    "### Простой последовательный алгоритм"
   ]
  },
  {
   "cell_type": "code",
   "execution_count": 38,
   "metadata": {},
   "outputs": [],
   "source": [
    "@timer\n",
    "def simple_count(file_name: str) -> int:\n",
    "    total_prime_count = 0\n",
    "    with open(file_name, \"r\") as f:\n",
    "        for line in f:\n",
    "            n = int(line.strip())\n",
    "            prime_count = len(factorize(n))\n",
    "            total_prime_count += prime_count\n",
    "\n",
    "    return total_prime_count"
   ]
  },
  {
   "attachments": {},
   "cell_type": "markdown",
   "metadata": {},
   "source": [
    "### Многопоточно (на CPython - multiprocessing), с использованием примитивов синхронизации "
   ]
  },
  {
   "cell_type": "code",
   "execution_count": 39,
   "metadata": {},
   "outputs": [],
   "source": [
    "def worker(numbers, results):\n",
    "    prime_count = 0\n",
    "    for n in numbers:\n",
    "        prime_count += len(factorize(n))\n",
    "    results.append(prime_count)\n",
    "\n",
    "@timer\n",
    "def multiprocessing_count(file_name):\n",
    "    # читаем числа из файла и делим их на части для каждого процесса\n",
    "    with open(file_name, \"r\") as f:\n",
    "        numbers = [int(line.strip()) for line in f]\n",
    "    chunk_size = len(numbers) // 4\n",
    "    chunks = [numbers[i:i+chunk_size] for i in range(0, len(numbers), chunk_size)]\n",
    "\n",
    "    # создаем пул из 4 процессов и результаты, которые будут возвращаться процессами\n",
    "    with Manager() as manager:\n",
    "        results = manager.list()\n",
    "        pool = Pool(processes=4)\n",
    "\n",
    "        # запускаем каждый процесс на своей части данных\n",
    "        jobs = [pool.apply_async(worker, (chunk, results)) for chunk in chunks]\n",
    "\n",
    "        # ждем, пока все процессы закончат работу\n",
    "        for job in jobs:\n",
    "            job.get()\n",
    "\n",
    "        total_prime_count = sum(results)\n",
    "\n",
    "    return total_prime_count\n"
   ]
  },
  {
   "attachments": {},
   "cell_type": "markdown",
   "metadata": {},
   "source": [
    "### C помощью Ray"
   ]
  },
  {
   "cell_type": "code",
   "execution_count": 40,
   "metadata": {},
   "outputs": [
    {
     "name": "stderr",
     "output_type": "stream",
     "text": [
      "2023-05-14 15:52:47,405\tINFO worker.py:1625 -- Started a local Ray instance.\n"
     ]
    },
    {
     "data": {
      "text/html": [
       "<div>\n",
       "    <div style=\"margin-left: 50px;display: flex;flex-direction: row;align-items: center\">\n",
       "        <h3 style=\"color: var(--jp-ui-font-color0)\">Ray</h3>\n",
       "        <svg version=\"1.1\" id=\"ray\" width=\"3em\" viewBox=\"0 0 144.5 144.6\" style=\"margin-left: 3em;margin-right: 3em\">\n",
       "            <g id=\"layer-1\">\n",
       "                <path fill=\"#00a2e9\" class=\"st0\" d=\"M97.3,77.2c-3.8-1.1-6.2,0.9-8.3,5.1c-3.5,6.8-9.9,9.9-17.4,9.6S58,88.1,54.8,81.2c-1.4-3-3-4-6.3-4.1\n",
       "                    c-5.6-0.1-9.9,0.1-13.1,6.4c-3.8,7.6-13.6,10.2-21.8,7.6C5.2,88.4-0.4,80.5,0,71.7c0.1-8.4,5.7-15.8,13.8-18.2\n",
       "                    c8.4-2.6,17.5,0.7,22.3,8c1.3,1.9,1.3,5.2,3.6,5.6c3.9,0.6,8,0.2,12,0.2c1.8,0,1.9-1.6,2.4-2.8c3.5-7.8,9.7-11.8,18-11.9\n",
       "                    c8.2-0.1,14.4,3.9,17.8,11.4c1.3,2.8,2.9,3.6,5.7,3.3c1-0.1,2,0.1,3,0c2.8-0.5,6.4,1.7,8.1-2.7s-2.3-5.5-4.1-7.5\n",
       "                    c-5.1-5.7-10.9-10.8-16.1-16.3C84,38,81.9,37.1,78,38.3C66.7,42,56.2,35.7,53,24.1C50.3,14,57.3,2.8,67.7,0.5\n",
       "                    C78.4-2,89,4.7,91.5,15.3c0.1,0.3,0.1,0.5,0.2,0.8c0.7,3.4,0.7,6.9-0.8,9.8c-1.7,3.2-0.8,5,1.5,7.2c6.7,6.5,13.3,13,19.8,19.7\n",
       "                    c1.8,1.8,3,2.1,5.5,1.2c9.1-3.4,17.9-0.6,23.4,7c4.8,6.9,4.6,16.1-0.4,22.9c-5.4,7.2-14.2,9.9-23.1,6.5c-2.3-0.9-3.5-0.6-5.1,1.1\n",
       "                    c-6.7,6.9-13.6,13.7-20.5,20.4c-1.8,1.8-2.5,3.2-1.4,5.9c3.5,8.7,0.3,18.6-7.7,23.6c-7.9,5-18.2,3.8-24.8-2.9\n",
       "                    c-6.4-6.4-7.4-16.2-2.5-24.3c4.9-7.8,14.5-11,23.1-7.8c3,1.1,4.7,0.5,6.9-1.7C91.7,98.4,98,92.3,104.2,86c1.6-1.6,4.1-2.7,2.6-6.2\n",
       "                    c-1.4-3.3-3.8-2.5-6.2-2.6C99.8,77.2,98.9,77.2,97.3,77.2z M72.1,29.7c5.5,0.1,9.9-4.3,10-9.8c0-0.1,0-0.2,0-0.3\n",
       "                    C81.8,14,77,9.8,71.5,10.2c-5,0.3-9,4.2-9.3,9.2c-0.2,5.5,4,10.1,9.5,10.3C71.8,29.7,72,29.7,72.1,29.7z M72.3,62.3\n",
       "                    c-5.4-0.1-9.9,4.2-10.1,9.7c0,0.2,0,0.3,0,0.5c0.2,5.4,4.5,9.7,9.9,10c5.1,0.1,9.9-4.7,10.1-9.8c0.2-5.5-4-10-9.5-10.3\n",
       "                    C72.6,62.3,72.4,62.3,72.3,62.3z M115,72.5c0.1,5.4,4.5,9.7,9.8,9.9c5.6-0.2,10-4.8,10-10.4c-0.2-5.4-4.6-9.7-10-9.7\n",
       "                    c-5.3-0.1-9.8,4.2-9.9,9.5C115,72.1,115,72.3,115,72.5z M19.5,62.3c-5.4,0.1-9.8,4.4-10,9.8c-0.1,5.1,5.2,10.4,10.2,10.3\n",
       "                    c5.6-0.2,10-4.9,9.8-10.5c-0.1-5.4-4.5-9.7-9.9-9.6C19.6,62.3,19.5,62.3,19.5,62.3z M71.8,134.6c5.9,0.2,10.3-3.9,10.4-9.6\n",
       "                    c0.5-5.5-3.6-10.4-9.1-10.8c-5.5-0.5-10.4,3.6-10.8,9.1c0,0.5,0,0.9,0,1.4c-0.2,5.3,4,9.8,9.3,10\n",
       "                    C71.6,134.6,71.7,134.6,71.8,134.6z\"/>\n",
       "            </g>\n",
       "        </svg>\n",
       "        <table>\n",
       "            <tr>\n",
       "                <td style=\"text-align: left\"><b>Python version:</b></td>\n",
       "                <td style=\"text-align: left\"><b>3.10.6</b></td>\n",
       "            </tr>\n",
       "            <tr>\n",
       "                <td style=\"text-align: left\"><b>Ray version:</b></td>\n",
       "                <td style=\"text-align: left\"><b> 2.4.0</b></td>\n",
       "            </tr>\n",
       "            \n",
       "        </table>\n",
       "    </div>\n",
       "</div>\n"
      ],
      "text/plain": [
       "RayContext(dashboard_url='', python_version='3.10.6', ray_version='2.4.0', ray_commit='4479f66d4db967d3c9dd0af2572061276ba926ba', address_info={'node_ip_address': '192.168.0.100', 'raylet_ip_address': '192.168.0.100', 'redis_address': None, 'object_store_address': '/tmp/ray/session_2023-05-14_15-52-45_327911_13638/sockets/plasma_store', 'raylet_socket_name': '/tmp/ray/session_2023-05-14_15-52-45_327911_13638/sockets/raylet', 'webui_url': '', 'session_dir': '/tmp/ray/session_2023-05-14_15-52-45_327911_13638', 'metrics_export_port': 54816, 'gcs_address': '192.168.0.100:40823', 'address': '192.168.0.100:40823', 'dashboard_agent_listen_port': 52365, 'node_id': 'bb072ba47dd6de6fcfcc5450a82df10736bf77ea527ca26ab03c5f41'})"
      ]
     },
     "execution_count": 40,
     "metadata": {},
     "output_type": "execute_result"
    }
   ],
   "source": [
    "ray.init()"
   ]
  },
  {
   "cell_type": "code",
   "execution_count": 41,
   "metadata": {},
   "outputs": [],
   "source": [
    "@ray.remote\n",
    "def count_primes(n):\n",
    "    prime_count = len(factorize(n))\n",
    "    return prime_count\n",
    "\n",
    "@timer\n",
    "def ray_count(file_name: str) -> int:\n",
    "    total_prime_count = 0\n",
    "    futures = []\n",
    "\n",
    "    with open(file_name, \"r\") as f:\n",
    "        for line in f:\n",
    "            n = int(line.strip())\n",
    "            future = count_primes.remote(n)\n",
    "            futures.append(future)\n",
    "\n",
    "    for result in ray.get(futures):\n",
    "        total_prime_count += result\n",
    "\n",
    "    return total_prime_count"
   ]
  },
  {
   "attachments": {},
   "cell_type": "markdown",
   "metadata": {},
   "source": [
    "### C помощью Dask"
   ]
  },
  {
   "cell_type": "code",
   "execution_count": 42,
   "metadata": {},
   "outputs": [],
   "source": [
    "@timer\n",
    "def dask_count(file_name: str) -> int:\n",
    "    b = db.read_text(file_name)\n",
    "    primes = b.map(lambda x: len(factorize(int(x.strip()))))\n",
    "    total_prime_count = primes.fold(lambda x, y: x + y).compute()\n",
    "\n",
    "    return total_prime_count"
   ]
  },
  {
   "attachments": {},
   "cell_type": "markdown",
   "metadata": {},
   "source": [
    "### C помощью PySpark"
   ]
  },
  {
   "cell_type": "code",
   "execution_count": 43,
   "metadata": {},
   "outputs": [],
   "source": [
    "@timer\n",
    "def pyspark_count(file_name: str) -> int:\n",
    "    conf = SparkConf().setAppName(\"Simple Count\")\n",
    "    sc = SparkContext.getOrCreate(conf=conf)\n",
    "\n",
    "    lines = sc.textFile(file_name)\n",
    "    primes = lines.map(lambda x: len(factorize(int(x.strip()))))\n",
    "\n",
    "    total_prime_count = primes.reduce(lambda x, y: x + y)\n",
    "\n",
    "    return total_prime_count"
   ]
  },
  {
   "attachments": {},
   "cell_type": "markdown",
   "metadata": {},
   "source": [
    "## Task 4. Измерить время выполнения для каждого случая."
   ]
  },
  {
   "cell_type": "code",
   "execution_count": 44,
   "metadata": {},
   "outputs": [
    {
     "name": "stdout",
     "output_type": "stream",
     "text": [
      "simple_count took 4.5509 secs\n"
     ]
    },
    {
     "data": {
      "text/plain": [
       "20678"
      ]
     },
     "execution_count": 44,
     "metadata": {},
     "output_type": "execute_result"
    }
   ],
   "source": [
    "simple_count(file_name=file_name)"
   ]
  },
  {
   "cell_type": "code",
   "execution_count": 51,
   "metadata": {},
   "outputs": [
    {
     "name": "stdout",
     "output_type": "stream",
     "text": [
      "multiprocessing_count took 2.0010 secs\n"
     ]
    },
    {
     "data": {
      "text/plain": [
       "20678"
      ]
     },
     "execution_count": 51,
     "metadata": {},
     "output_type": "execute_result"
    }
   ],
   "source": [
    "multiprocessing_count(file_name)"
   ]
  },
  {
   "cell_type": "code",
   "execution_count": 47,
   "metadata": {},
   "outputs": [
    {
     "name": "stdout",
     "output_type": "stream",
     "text": [
      "ray_count took 3.2346 secs\n",
      "20678\n"
     ]
    }
   ],
   "source": [
    "print(ray_count(file_name))\n",
    "ray.shutdown()"
   ]
  },
  {
   "cell_type": "code",
   "execution_count": 48,
   "metadata": {},
   "outputs": [
    {
     "name": "stdout",
     "output_type": "stream",
     "text": [
      "dask_count took 4.6905 secs\n"
     ]
    },
    {
     "data": {
      "text/plain": [
       "20678"
      ]
     },
     "execution_count": 48,
     "metadata": {},
     "output_type": "execute_result"
    }
   ],
   "source": [
    "dask_count(file_name)"
   ]
  },
  {
   "cell_type": "code",
   "execution_count": 49,
   "metadata": {},
   "outputs": [
    {
     "name": "stderr",
     "output_type": "stream",
     "text": [
      "[Stage 2:>                                                          (0 + 2) / 2]\r"
     ]
    },
    {
     "name": "stdout",
     "output_type": "stream",
     "text": [
      "pyspark_count took 3.0856 secs\n"
     ]
    },
    {
     "name": "stderr",
     "output_type": "stream",
     "text": [
      "                                                                                \r"
     ]
    },
    {
     "data": {
      "text/plain": [
       "20678"
      ]
     },
     "execution_count": 49,
     "metadata": {},
     "output_type": "execute_result"
    }
   ],
   "source": [
    "pyspark_count(file_name)"
   ]
  },
  {
   "attachments": {},
   "cell_type": "markdown",
   "metadata": {},
   "source": [
    "### Расчет с использованием Go рутин приведен в файле gorutine.go\n",
    "Время выполнения 0.306 seconds, что быстрее любого из полученных решений на python"
   ]
  },
  {
   "cell_type": "code",
   "execution_count": null,
   "metadata": {},
   "outputs": [],
   "source": []
  }
 ],
 "metadata": {
  "kernelspec": {
   "display_name": "Python 3",
   "language": "python",
   "name": "python3"
  },
  "language_info": {
   "codemirror_mode": {
    "name": "ipython",
    "version": 3
   },
   "file_extension": ".py",
   "mimetype": "text/x-python",
   "name": "python",
   "nbconvert_exporter": "python",
   "pygments_lexer": "ipython3",
   "version": "3.10.6"
  },
  "orig_nbformat": 4
 },
 "nbformat": 4,
 "nbformat_minor": 2
}
