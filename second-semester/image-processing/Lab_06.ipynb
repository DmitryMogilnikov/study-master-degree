{
 "cells": [
  {
   "cell_type": "code",
   "execution_count": 1,
   "metadata": {},
   "outputs": [],
   "source": [
    "import numpy as np\n",
    "import matplotlib.pyplot as plt\n",
    "import seaborn as sns\n",
    "sns.set_theme(style=\"whitegrid\", palette=\"inferno\")\n",
    "\n",
    "\n",
    "def euclidean_distance(x1, x2):\n",
    "    return np.sqrt(np.sum((x1 - x2)**2))"
   ]
  },
  {
   "cell_type": "markdown",
   "metadata": {},
   "source": [
    "## k-means"
   ]
  },
  {
   "cell_type": "code",
   "execution_count": 2,
   "metadata": {},
   "outputs": [
    {
     "data": {
      "image/png": "[encoded data removed]",
      "text/plain": [
       "<Figure size 432x288 with 1 Axes>"
      ]
     },
     "metadata": {},
     "output_type": "display_data"
    }
   ],
   "source": [
    "###k-means\n",
    "import numpy as np\n",
    "import matplotlib.pyplot as plt\n",
    "\n",
    "X = np.array([[1, 2],\n",
    "              [1.5, 1.8],\n",
    "              [5, 8 ],\n",
    "              [8, 8],\n",
    "              [1, 0.6],\n",
    "              [9, 11]])\n",
    "\n",
    "# Инициализируем центры кластеров случайными значениями из данных X\n",
    "def init_centroids(X: np.ndarray, k) -> np.ndarray:\n",
    "    return X[np.random.choice(X.shape[0], k)]\n",
    "\n",
    "# Определяем функцию для присвоения каждой точке данных ближайшего центра кластера\n",
    "def assign_cluster(X, centroids):\n",
    "    clusters = []\n",
    "    for x in X:\n",
    "        distances = []\n",
    "        for c in centroids:\n",
    "            distances.append(euclidean_distance(x, c))\n",
    "        clusters.append(np.argmin(distances))\n",
    "    return clusters\n",
    "\n",
    "# Определяем функцию для пересчета центров кластеров как среднее арифметическое всех точек данных в кластере\n",
    "def update_centroids(X, clusters, k):\n",
    "    new_centroids = []\n",
    "    for i in range(k):\n",
    "        new_centroids.append(np.mean(X[np.array(clusters) == i], axis=0))\n",
    "    return new_centroids\n",
    "\n",
    "# Запускаем алгоритм k-means до тех пор, пока центры кластеров не стабилизируются или не достигнут заданного количества итераций\n",
    "max_iter = 100 # максимальное количество итераций\n",
    "tolerance = 0.0001 # допустимая разница между старыми и новыми центрами кластеров\n",
    "\n",
    "def k_means(X: np.ndarray, k = 2, max_iter: int = 100, tolerance: float = 0.0001):\n",
    "    centroids = init_centroids(X, k)\n",
    "    for i in range(max_iter):\n",
    "        clusters = assign_cluster(X, centroids)\n",
    "        new_centroids = update_centroids(X, clusters, k)\n",
    "        diff = np.sum([euclidean_distance(centroids[i], new_centroids[i]) for i in range(k)])\n",
    "        if diff < tolerance:\n",
    "            break # останавливаем алгоритм если разница меньше допустимой\n",
    "        centroids = new_centroids # обновляем центры кластеров\n",
    "    return clusters\n",
    "\n",
    "clusters = k_means(X)\n",
    "plt.scatter(X[:,0], X[:,1], c=clusters)\n",
    "plt.show()"
   ]
  },
  {
   "cell_type": "markdown",
   "metadata": {},
   "source": [
    "## c-means"
   ]
  },
  {
   "cell_type": "code",
   "execution_count": 5,
   "metadata": {},
   "outputs": [
    {
     "data": {
      "text/plain": [
       "<matplotlib.collections.PathCollection at 0x7f5ffb751390>"
      ]
     },
     "execution_count": 5,
     "metadata": {},
     "output_type": "execute_result"
    },
    {
     "data": {
      "image/png": "[encoded data removed]",
      "text/plain": [
       "<Figure size 432x288 with 1 Axes>"
      ]
     },
     "metadata": {},
     "output_type": "display_data"
    }
   ],
   "source": [
    "X = np.array([[1, 2],\n",
    "              [5, 4],\n",
    "              [2, 7],\n",
    "              [9, 3],])\n",
    "\n",
    "# Инициализируем матрицу принадлежности U случайными значениями из [0, 1], так что сумма по каждой строке равна единице\n",
    "def init_U(X, k):\n",
    "    U = np.random.rand(X.shape[0], k)\n",
    "    return U / np.sum(U, axis=1)[:, None]\n",
    "\n",
    "# Определяем функцию для вычисления центров кластеров C по формуле:\n",
    "#c_j = (sum(i=1..n) u_ij^m * x_i) / (sum(i=1..n) u_ij^m)\n",
    "def calculate_centroids(X, U, k, m):\n",
    "    C = []\n",
    "    for j in range(k):\n",
    "        num = np.sum((U[:,j]**m)[:,None] * X, axis=0)\n",
    "        den = np.sum(U[:,j]**m)\n",
    "        C.append(num/den)\n",
    "    return np.array(C)\n",
    "\n",
    "# Определяем функцию для обновления матрицы принадлежности U по формуле:\n",
    "#u_ij = 1 / (sum(h=1..k) ((||x_i - c_j|| / ||x_i - c_h||) ^ (2 / (m-1))))\n",
    "def update_membership(X, C, k, m):\n",
    "    U_new = []\n",
    "    for i in range(X.shape[0]):\n",
    "        distances = []\n",
    "        for j in range(k):\n",
    "            distances.append(euclidean_distance(X[i],C[j]))\n",
    "        fractions = []\n",
    "        for j in range(k):\n",
    "            fraction = distances[j] ** (-2/(m-1))\n",
    "            fraction /= sum([distances[h] ** (-2/(m-1)) for h in range(k)])\n",
    "            fractions.append(fraction)\n",
    "        U_new.append(fractions)\n",
    "    return np.array(U_new)\n",
    "\n",
    "# Запускаем алгоритм c-means до тех пор, пока J(U,C) не стабилизируется или не достигнет заданного порога\n",
    "def c_means(X, max_iter = 100, tolerance = 0.0001, k = 2, m = 2):\n",
    "    U = init_U(X, k)\n",
    "    for i in range(max_iter):\n",
    "        C_old = calculate_centroids(X, U, k, m)\n",
    "        U_old = update_membership(X, C_old, k, m)\n",
    "        C_new = calculate_centroids(X, U_old, k, m)\n",
    "        diff_Csquared_summed_over_k_clusters=np.sum([euclidean_distance(C_old[j], C_new[j])**2 for j in range(k)])\n",
    "        \n",
    "        if diff_Csquared_summed_over_k_clusters < tolerance:\n",
    "            break # останавливаем алгоритм если разница меньше допустимой\n",
    "        \n",
    "        U=U_old # обновляем матрицу принадлежности\n",
    "\n",
    "    return U\n",
    "\n",
    "U = c_means(X)\n",
    "\n",
    "plt.scatter(X[:,0], X[:,1], c=np.argmax(U, axis=1), s=100)"
   ]
  },
  {
   "cell_type": "code",
   "execution_count": 6,
   "metadata": {},
   "outputs": [
    {
     "data": {
      "text/plain": [
       "<matplotlib.collections.PathCollection at 0x7f5ffda864d0>"
      ]
     },
     "execution_count": 6,
     "metadata": {},
     "output_type": "execute_result"
    },
    {
     "data": {
      "image/png": "[encoded data removed]",
      "text/plain": [
       "<Figure size 432x288 with 1 Axes>"
      ]
     },
     "metadata": {},
     "output_type": "display_data"
    }
   ],
   "source": [
    "import sklearn.datasets as ds\n",
    "\n",
    "plt_ind_list = np.arange(100) + 131\n",
    "\n",
    "rand_state = 42\n",
    "\n",
    "for class_sep,plt_ind in zip([0.1,1,10],plt_ind_list):\n",
    "    x,y = ds.make_classification(n_samples=1000,\n",
    "                                 n_features=2,\n",
    "                                 n_repeated=0,\n",
    "                                 class_sep=class_sep,\n",
    "                                 n_redundant=0,\n",
    "                                 random_state=rand_state)\n",
    "    \n",
    "\n",
    "#plt.scatter(x[:,0], x[:,1])\n",
    "\n",
    "U = c_means(x, k=4)\n",
    "plt.scatter(x[:,0], x[:,1], c=np.argmax(U, axis=1), s=100)"
   ]
  },
  {
   "cell_type": "markdown",
   "metadata": {},
   "source": [
    "## Алгоритм Краскала"
   ]
  },
  {
   "cell_type": "code",
   "execution_count": 7,
   "metadata": {},
   "outputs": [
    {
     "name": "stdout",
     "output_type": "stream",
     "text": [
      "[(12, 5, 6), (15, 1, 6), (18, 2, 6), (19, 3, 4), (21, 3, 5)]\n"
     ]
    }
   ],
   "source": [
    "# список ребер графа (длина, вершина 1, вершина 2)\n",
    "graph = [(25, 1, 2), (26, 1, 4), (15, 1, 6), (23, 2, 3), (20, 2, 5),\n",
    "         (18, 2, 6), (19, 3, 4), (21, 3, 5), (12, 5, 6)]\n",
    "\n",
    "def kruskal(graph: list) -> list:\n",
    "    Rs = sorted(graph, key=lambda x: x[0])\n",
    "    U = set()   # список соединенных вершин\n",
    "    D = {}      # словарь списка изолированных групп вершин\n",
    "    T = []      # список ребер остова\n",
    "\n",
    "    for r in Rs:\n",
    "        if r[1] not in U and r[2] not in U: # если обе вершины не соединены, то\n",
    "            D[r[1]] = [r[1], r[2]]          # формируем в словаре ключ с номерами вершин\n",
    "            D[r[2]] = D[r[1]]               # и связываем их с одним и тем же списком вершин\n",
    "\n",
    "        if r[1] not in U or r[2] not in U:  # проверка для исключения циклов в остове\n",
    "            if not D.get(r[1]):             # если в словаре нет первой вершины, то\n",
    "                D[r[2]].append(r[1])        # добавляем в список первую вершину\n",
    "                D[r[1]] = D[r[2]]           # и добавляем ключ с номером первой вершины\n",
    "            else:\n",
    "                D[r[1]].append(r[2])        # иначе, все то же самое делаем со второй вершиной\n",
    "                D[r[2]] = D[r[1]]\n",
    "\n",
    "            T.append(r)             # добавляем ребро в остов\n",
    "            U.add(r[1])             # добавляем вершины в множество U\n",
    "            U.add(r[2])\n",
    "\n",
    "    for r in Rs:    # проходим по ребрам второй раз и объединяем разрозненные группы вершин\n",
    "        if r[2] not in D[r[1]]:     # если вершины принадлежат разным группам, то объединяем\n",
    "            T.append(r)             # добавляем ребро в остов\n",
    "            gr1 = D[r[1]]\n",
    "            D[r[1]] += D[r[2]]      # объединем списки двух групп вершин\n",
    "            D[r[2]] += gr1\n",
    "    \n",
    "    return T\n",
    "\n",
    "print(kruskal(graph))"
   ]
  },
  {
   "cell_type": "code",
   "execution_count": null,
   "metadata": {},
   "outputs": [],
   "source": []
  }
 ],
 "metadata": {
  "kernelspec": {
   "display_name": "Python 3 (ipykernel)",
   "language": "python",
   "name": "python3"
  },
  "language_info": {
   "codemirror_mode": {
    "name": "ipython",
    "version": 3
   },
   "file_extension": ".py",
   "mimetype": "text/x-python",
   "name": "python",
   "nbconvert_exporter": "python",
   "pygments_lexer": "ipython3",
   "version": "3.10.6"
  }
 },
 "nbformat": 4,
 "nbformat_minor": 2
}
