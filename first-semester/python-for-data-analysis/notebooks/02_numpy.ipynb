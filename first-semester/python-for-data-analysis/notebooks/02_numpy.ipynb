{
 "cells": [
  {
   "cell_type": "markdown",
   "metadata": {},
   "source": [
    "# Задание 2.\n",
    "\n",
    "**NB. Все упражнения ниже нужно делать без использования циклов Python в явном (`while`, `for`) и неявном виде (list comprehension, `map`, `reduce` и пр)**\n",
    "\n",
    "Задания по манипуляциям с массивами чаще всего решаются в одно/два выражения. "
   ]
  },
  {
   "cell_type": "code",
   "execution_count": 1,
   "metadata": {},
   "outputs": [
    {
     "data": {
      "text/plain": [
       "array([[54, 15, 52, ..., 20, 76,  6],\n",
       "       [85, 37, 29, ..., 58, 99, 82],\n",
       "       [50, 94, 65, ..., 71, 15, 65],\n",
       "       ...,\n",
       "       [16, 81, 48, ..., 68, 52, 67],\n",
       "       [79, 97, 47, ..., 97, 64,  5],\n",
       "       [91, 31, 71, ..., 44, 73, 59]])"
      ]
     },
     "execution_count": 1,
     "metadata": {},
     "output_type": "execute_result"
    }
   ],
   "source": [
    "%matplotlib inline\n",
    "\n",
    "import numpy as np\n",
    "import numpy.typing as npt\n",
    "import scipy\n",
    "import matplotlib.pyplot as plt\n",
    "import seaborn as sns\n",
    "sns.set_theme()\n",
    "\n",
    "A = np.random.randint(0, 100, size=(200, 50))\n",
    "A"
   ]
  },
  {
   "cell_type": "markdown",
   "metadata": {},
   "source": [
    "# Задание 2.1 (2 балла)\n",
    "\n",
    "Сгенерируйте новый массив, в котором столбцы массива `A` переставлены в случайном порядке"
   ]
  },
  {
   "cell_type": "markdown",
   "metadata": {},
   "source": [
    "Для случайной перестановки столбцов массива можно использовать две команды:\n",
    "- np.random.permutation(array) - сохраняет исходный массив, возвращает изменённый новый массив\n",
    "- np.random.shuffle(array) - изменяет сам входной массив.\n",
    "\n",
    "Для многомерного массива происходит перестановка по первой оси, то есть для двумерного массива будут перемешаны строки, значин предварительно нужно транспонировать массив. \n",
    "\n",
    "Рассмотрим сначала на более наглядном примере:"
   ]
  },
  {
   "cell_type": "code",
   "execution_count": 2,
   "metadata": {},
   "outputs": [
    {
     "data": {
      "text/plain": [
       "array([[89, 61, 18, 32, 24],\n",
       "       [87, 71, 79, 92, 38],\n",
       "       [12, 45, 40, 29, 89],\n",
       "       [78, 76, 56, 23, 31],\n",
       "       [ 9, 90, 49, 79, 65]])"
      ]
     },
     "execution_count": 2,
     "metadata": {},
     "output_type": "execute_result"
    }
   ],
   "source": [
    "test_array = np.random.randint(0, 100, size=(5, 5))\n",
    "test_array"
   ]
  },
  {
   "cell_type": "code",
   "execution_count": 3,
   "metadata": {},
   "outputs": [
    {
     "data": {
      "text/plain": [
       "array([[24, 18, 61, 32, 89],\n",
       "       [38, 79, 71, 92, 87],\n",
       "       [89, 40, 45, 29, 12],\n",
       "       [31, 56, 76, 23, 78],\n",
       "       [65, 49, 90, 79,  9]])"
      ]
     },
     "execution_count": 3,
     "metadata": {},
     "output_type": "execute_result"
    }
   ],
   "source": [
    "np.random.permutation(test_array.transpose()).transpose()"
   ]
  },
  {
   "cell_type": "markdown",
   "metadata": {},
   "source": [
    "Тогда применим эту функцию к массиву А и получим случайную перестановку столбцов"
   ]
  },
  {
   "cell_type": "code",
   "execution_count": 4,
   "metadata": {},
   "outputs": [
    {
     "data": {
      "text/plain": [
       "array([[30, 78, 47, ..., 36, 82, 76],\n",
       "       [23, 21, 46, ..., 62, 51, 99],\n",
       "       [18, 63, 32, ..., 24, 38, 15],\n",
       "       ...,\n",
       "       [80, 32, 97, ...,  3, 89, 52],\n",
       "       [53, 80, 93, ..., 32, 58, 64],\n",
       "       [50, 87,  6, ..., 71, 85, 73]])"
      ]
     },
     "execution_count": 4,
     "metadata": {},
     "output_type": "execute_result"
    }
   ],
   "source": [
    "np.random.permutation(A.transpose()).transpose()"
   ]
  },
  {
   "cell_type": "markdown",
   "metadata": {},
   "source": [
    "# Задание 2.2 (5 баллов)\n",
    "\n",
    "Сгенерируйте новый массив, который содержит только те строки массива `A`, в которых: \n",
    "- сумма элементов по четным столбцам (индексы $0, 2, \\ldots$) больше среднего значения (по всему массиву) суммы элементов по нечетным столбцам (индексы $1, 3, \\ldots$) "
   ]
  },
  {
   "cell_type": "markdown",
   "metadata": {},
   "source": [
    "Проссумируем элементы по нечетным столбцам и возьмет среднее значение:"
   ]
  },
  {
   "cell_type": "code",
   "execution_count": 5,
   "metadata": {},
   "outputs": [
    {
     "data": {
      "text/plain": [
       "1225.225"
      ]
     },
     "execution_count": 5,
     "metadata": {},
     "output_type": "execute_result"
    }
   ],
   "source": [
    "mean_odd = np.sum(A[:,1::2], axis=1).mean()\n",
    "mean_odd"
   ]
  },
  {
   "cell_type": "markdown",
   "metadata": {},
   "source": [
    "Создадим маску проверки условия, что сумма элементов по четным столбцам больше среднего значения суммы по нечетным столбцам"
   ]
  },
  {
   "cell_type": "code",
   "execution_count": 6,
   "metadata": {},
   "outputs": [],
   "source": [
    "mask = np.sum(A[:,0::2], axis=1) > mean_odd"
   ]
  },
  {
   "cell_type": "code",
   "execution_count": 7,
   "metadata": {},
   "outputs": [
    {
     "data": {
      "text/plain": [
       "array([[54, 15, 52, ..., 20, 76,  6],\n",
       "       [10, 53, 39, ..., 70, 38, 24],\n",
       "       [91, 94, 67, ..., 77,  2, 25],\n",
       "       ...,\n",
       "       [37,  7, 91, ..., 61, 57, 35],\n",
       "       [16, 81, 48, ..., 68, 52, 67],\n",
       "       [91, 31, 71, ..., 44, 73, 59]])"
      ]
     },
     "execution_count": 7,
     "metadata": {},
     "output_type": "execute_result"
    }
   ],
   "source": [
    "A[mask, :]"
   ]
  },
  {
   "cell_type": "markdown",
   "metadata": {},
   "source": [
    "# Задача 2.3 (3 балла)\n",
    "\n",
    "Найдите индекс строки массива `A`, в которой разница между максимальным и минимальным элементом максимальна"
   ]
  },
  {
   "cell_type": "code",
   "execution_count": 8,
   "metadata": {},
   "outputs": [
    {
     "data": {
      "text/plain": [
       "2"
      ]
     },
     "execution_count": 8,
     "metadata": {},
     "output_type": "execute_result"
    }
   ],
   "source": [
    "np.argmax(np.max(A, axis=1) - np.min(A, axis=1))"
   ]
  },
  {
   "cell_type": "markdown",
   "metadata": {},
   "source": [
    "# Задание 2.4 (7 баллов)\n",
    "\n",
    "Сгенерируйте массив той же размерности, что и `A`, но в котором каждый элемент заменен на его порядковый номер (начиная с 1) в отсортированном по возрастанию массиве из элементов `A`\n",
    "\n",
    "Если `A` выглядит так:\n",
    "$$\n",
    "\\begin{pmatrix}\n",
    "12 & 14\\\\\n",
    "1 & 2\n",
    "\\end{pmatrix}\n",
    "$$\n",
    "то результат должен быть\n",
    "$$\n",
    "\\begin{pmatrix}\n",
    "3 & 4\\\\\n",
    "1 & 2\n",
    "\\end{pmatrix}\n",
    "$$\n",
    "\n",
    "*Tip: рассмотрите возможность неоднократного применения [argsort()](https://numpy.org/doc/stable/reference/generated/numpy.ndarray.argsort.html)*"
   ]
  },
  {
   "cell_type": "code",
   "execution_count": 9,
   "metadata": {},
   "outputs": [
    {
     "data": {
      "text/plain": [
       "array([[5482, 1572, 5259, ..., 2038, 7698,  696],\n",
       "       [8615, 3733, 2998, ..., 5907, 9978, 8389],\n",
       "       [5035, 9504, 6643, ..., 7209, 1589, 6630],\n",
       "       ...,\n",
       "       [1626, 8204, 4879, ..., 6991, 5285, 6885],\n",
       "       [8016, 9747, 4792, ..., 9721, 6571,  525],\n",
       "       [9244, 3115, 7244, ..., 4448, 7479, 6020]])"
      ]
     },
     "execution_count": 9,
     "metadata": {},
     "output_type": "execute_result"
    }
   ],
   "source": [
    "np.argsort(np.argsort(np.ravel(A))).reshape(A.shape)"
   ]
  },
  {
   "cell_type": "markdown",
   "metadata": {},
   "source": [
    "# Задание 2.5 (2 балла)\n",
    "\n",
    "Примените $\\min-\\max$ - нормализацию к строкам массива `A`. То есть нужно получить новый массивы, в каждой строке которого максимальный элементы равен $1$, минимальный - $0$. "
   ]
  },
  {
   "cell_type": "code",
   "execution_count": 10,
   "metadata": {},
   "outputs": [],
   "source": [
    "rows_count = A.shape[0]\n",
    "min_args = A.min(axis=1).reshape(rows_count, 1)\n",
    "max_args = A.max(axis=1).reshape(rows_count, 1)"
   ]
  },
  {
   "cell_type": "code",
   "execution_count": 11,
   "metadata": {},
   "outputs": [
    {
     "data": {
      "text/plain": [
       "array([[0.54347826, 0.11956522, 0.52173913, ..., 0.17391304, 0.7826087 ,\n",
       "        0.02173913],\n",
       "       [0.85714286, 0.36734694, 0.28571429, ..., 0.58163265, 1.        ,\n",
       "        0.82653061],\n",
       "       [0.50505051, 0.94949495, 0.65656566, ..., 0.71717172, 0.15151515,\n",
       "        0.65656566],\n",
       "       ...,\n",
       "       [0.16161616, 0.81818182, 0.48484848, ..., 0.68686869, 0.52525253,\n",
       "        0.67676768],\n",
       "       [0.8125    , 1.        , 0.47916667, ..., 1.        , 0.65625   ,\n",
       "        0.04166667],\n",
       "       [0.92857143, 0.31632653, 0.7244898 , ..., 0.44897959, 0.74489796,\n",
       "        0.60204082]])"
      ]
     },
     "execution_count": 11,
     "metadata": {},
     "output_type": "execute_result"
    }
   ],
   "source": [
    "(A - min_args) / (max_args - min_args)"
   ]
  },
  {
   "cell_type": "markdown",
   "metadata": {},
   "source": [
    "# Задание 2.6 (2 балла)\n",
    "\n",
    "Сгенерируйте новый трехмерный массив, размерности $10 \\times 200 \\times 50$. Подмассивы по нулевой оси должны состоять из элементов `A`, умноженных на $1 - 10$ соответственно"
   ]
  },
  {
   "cell_type": "code",
   "execution_count": 12,
   "metadata": {},
   "outputs": [
    {
     "data": {
      "text/plain": [
       "array([[[ 54,  15,  52, ...,  20,  76,   6],\n",
       "        [ 85,  37,  29, ...,  58,  99,  82],\n",
       "        [ 50,  94,  65, ...,  71,  15,  65],\n",
       "        ...,\n",
       "        [ 16,  81,  48, ...,  68,  52,  67],\n",
       "        [ 79,  97,  47, ...,  97,  64,   5],\n",
       "        [ 91,  31,  71, ...,  44,  73,  59]],\n",
       "\n",
       "       [[108,  30, 104, ...,  40, 152,  12],\n",
       "        [170,  74,  58, ..., 116, 198, 164],\n",
       "        [100, 188, 130, ..., 142,  30, 130],\n",
       "        ...,\n",
       "        [ 32, 162,  96, ..., 136, 104, 134],\n",
       "        [158, 194,  94, ..., 194, 128,  10],\n",
       "        [182,  62, 142, ...,  88, 146, 118]],\n",
       "\n",
       "       [[162,  45, 156, ...,  60, 228,  18],\n",
       "        [255, 111,  87, ..., 174, 297, 246],\n",
       "        [150, 282, 195, ..., 213,  45, 195],\n",
       "        ...,\n",
       "        [ 48, 243, 144, ..., 204, 156, 201],\n",
       "        [237, 291, 141, ..., 291, 192,  15],\n",
       "        [273,  93, 213, ..., 132, 219, 177]],\n",
       "\n",
       "       ...,\n",
       "\n",
       "       [[432, 120, 416, ..., 160, 608,  48],\n",
       "        [680, 296, 232, ..., 464, 792, 656],\n",
       "        [400, 752, 520, ..., 568, 120, 520],\n",
       "        ...,\n",
       "        [128, 648, 384, ..., 544, 416, 536],\n",
       "        [632, 776, 376, ..., 776, 512,  40],\n",
       "        [728, 248, 568, ..., 352, 584, 472]],\n",
       "\n",
       "       [[486, 135, 468, ..., 180, 684,  54],\n",
       "        [765, 333, 261, ..., 522, 891, 738],\n",
       "        [450, 846, 585, ..., 639, 135, 585],\n",
       "        ...,\n",
       "        [144, 729, 432, ..., 612, 468, 603],\n",
       "        [711, 873, 423, ..., 873, 576,  45],\n",
       "        [819, 279, 639, ..., 396, 657, 531]],\n",
       "\n",
       "       [[540, 150, 520, ..., 200, 760,  60],\n",
       "        [850, 370, 290, ..., 580, 990, 820],\n",
       "        [500, 940, 650, ..., 710, 150, 650],\n",
       "        ...,\n",
       "        [160, 810, 480, ..., 680, 520, 670],\n",
       "        [790, 970, 470, ..., 970, 640,  50],\n",
       "        [910, 310, 710, ..., 440, 730, 590]]])"
      ]
     },
     "execution_count": 12,
     "metadata": {},
     "output_type": "execute_result"
    }
   ],
   "source": [
    "np.cumsum(np.tile(A, (10, 1, 1)), axis=0)"
   ]
  },
  {
   "cell_type": "markdown",
   "metadata": {},
   "source": [
    "# Задание 2.7 (2 балла)\n",
    "\n",
    "Создайте новый массив, такой же размерности, как и `A`, в котором сначала сгруппированы четные столбцы `A`, потом  нечетные. Используйте [np.concat()](https://numpy.org/doc/stable/reference/generated/numpy.concatenate.html) "
   ]
  },
  {
   "cell_type": "code",
   "execution_count": 13,
   "metadata": {},
   "outputs": [
    {
     "data": {
      "text/plain": [
       "array([[54, 52, 88, ..., 76, 20,  6],\n",
       "       [85, 29, 17, ..., 52, 58, 82],\n",
       "       [50, 65, 48, ..., 52, 71, 65],\n",
       "       ...,\n",
       "       [16, 48, 64, ..., 21, 68, 67],\n",
       "       [79, 47, 83, ..., 73, 97,  5],\n",
       "       [91, 71, 27, ..., 42, 44, 59]])"
      ]
     },
     "execution_count": 13,
     "metadata": {},
     "output_type": "execute_result"
    }
   ],
   "source": [
    "np.concatenate((A[:,0::2], A[:,1::2]), axis=1)"
   ]
  },
  {
   "cell_type": "markdown",
   "metadata": {},
   "source": [
    "# Задание 2.8 (2 балла)\n",
    "\n",
    "Посчитайте количество строк массива `A`, в который все элементы больше 5. Используйте [np.all()](https://numpy.org/doc/stable/reference/generated/numpy.all.html) "
   ]
  },
  {
   "cell_type": "code",
   "execution_count": 14,
   "metadata": {},
   "outputs": [
    {
     "data": {
      "text/plain": [
       "10"
      ]
     },
     "execution_count": 14,
     "metadata": {},
     "output_type": "execute_result"
    }
   ],
   "source": [
    "np.sum(np.all(A > 5, axis=1))"
   ]
  },
  {
   "cell_type": "markdown",
   "metadata": {},
   "source": [
    "# Задание 2.9 (2 балла)\n",
    "\n",
    "Поделите массив `A` горизонтально на 10 частей и создайте новый массив размерности $20 \\times 50$, который состоит из средних этих частей. Используйте [np.split()](https://numpy.org/doc/stable/reference/generated/numpy.split.html)"
   ]
  },
  {
   "cell_type": "code",
   "execution_count": 15,
   "metadata": {},
   "outputs": [
    {
     "data": {
      "text/plain": [
       "array([[46. , 49. , 48.1, 47.7, 57.9, 41.6, 44.9, 75. , 44.1, 35.5, 26.3,\n",
       "        41.6, 48.4, 57.9, 45.6, 65.1, 55.4, 41. , 66. , 53. , 39.4, 49.2,\n",
       "        25.1, 53.4, 52.6, 45.3, 52.3, 59.2, 60.8, 28.6, 64.7, 67. , 52.9,\n",
       "        50.3, 65.2, 45.1, 64.5, 52.6, 54.3, 37.6, 57.1, 50.5, 39.5, 46.7,\n",
       "        52.7, 44.4, 49.8, 41.6, 41.4, 39.5],\n",
       "       [48.2, 48.7, 43.6, 49.5, 39.5, 49.6, 47. , 52.7, 49.3, 78. , 67.4,\n",
       "        60.5, 44.1, 53.4, 54.7, 61.3, 54.3, 45.7, 45.8, 60.6, 39.3, 47.7,\n",
       "        53.9, 57.7, 40.4, 45. , 60.5, 45. , 53.6, 33. , 52.4, 39. , 34.6,\n",
       "        58.2, 50.7, 54.2, 35.9, 62.1, 35.8, 39.4, 36.7, 44.4, 54.9, 59.7,\n",
       "        57.4, 52.8, 43.2, 43.8, 55.9, 49.6],\n",
       "       [52.2, 65.2, 49.5, 44. , 38.8, 50.9, 45.5, 45.6, 52.7, 47.7, 45.6,\n",
       "        32.2, 42.1, 43. , 39. , 58.2, 34.7, 47.3, 28. , 52.9, 64.2, 48.9,\n",
       "        65.7, 65.8, 44.7, 49. , 43.3, 54. , 64.8, 38.6, 39.3, 42.6, 52.3,\n",
       "        55.1, 46.8, 20.2, 43.2, 40. , 53.4, 58.1, 36.1, 24.6, 37.6, 50.8,\n",
       "        35.4, 52.8, 37.5, 55.2, 46.3, 57.1],\n",
       "       [35.9, 51.3, 41.5, 35.3, 44.2, 64.1, 63.1, 53.7, 58.4, 46.1, 45.2,\n",
       "        46.3, 39.6, 42.2, 50.9, 44.5, 40.6, 54.4, 60.2, 49.2, 57.1, 44.5,\n",
       "        66.9, 48.5, 58.4, 37.5, 41.5, 51.7, 50.3, 50.8, 48.4, 45.1, 44.1,\n",
       "        50.8, 57.5, 36. , 56.8, 38. , 61. , 54.8, 54.9, 51. , 42.2, 48. ,\n",
       "        39.7, 41.1, 45.7, 41.3, 46. , 44.3],\n",
       "       [41.7, 56.1, 60.4, 39.6, 64. , 59.4, 40. , 47.8, 54. , 47.1, 54.8,\n",
       "        75.7, 45.3, 63.6, 57.1, 52.6, 58.9, 37.9, 52.9, 70.1, 47.1, 52.2,\n",
       "        52. , 49.3, 60. , 47.8, 39.2, 50.9, 42.5, 46.7, 41.6, 59.8, 68.3,\n",
       "        37.7, 59.1, 51.4, 55.6, 73.1, 47.6, 60.9, 51.6, 40.2, 57.8, 50.7,\n",
       "        57.4, 50.3, 43.8, 57. , 52.3, 37.1],\n",
       "       [45.6, 41.3, 49. , 35.7, 42.4, 40.7, 49.4, 49.6, 50.6, 59.2, 56.9,\n",
       "        56.6, 52.6, 42.4, 36.7, 50.7, 45.9, 56.9, 54.3, 54.5, 53.9, 45.6,\n",
       "        59. , 45.2, 57.2, 41.1, 46.7, 39.5, 46.2, 64.1, 62.2, 33.2, 56.3,\n",
       "        61.3, 39.8, 53.2, 56.1, 46.4, 50.1, 40. , 56.1, 57.6, 42.5, 43.8,\n",
       "        65.9, 43.9, 55.5, 48.2, 37.1, 32.3],\n",
       "       [47.7, 49.6, 53.9, 51.5, 49.1, 64.7, 59.7, 43.7, 40.8, 50.3, 41.9,\n",
       "        34.9, 50.2, 55.9, 39.3, 36.5, 58.8, 53.1, 45.1, 60.9, 56.4, 28.6,\n",
       "        53.3, 62.3, 49.2, 58.7, 54.8, 51.4, 51.4, 45.7, 41.6, 50.3, 53.7,\n",
       "        44.6, 46.9, 45.4, 49.9, 53.3, 48.2, 35.5, 67.1, 49. , 45.9, 36.2,\n",
       "        55.5, 49.3, 50.6, 51.6, 38. , 36.1],\n",
       "       [63.8, 50.6, 49.6, 46.6, 61.2, 61.9, 66.1, 54.6, 64.2, 44.8, 38.4,\n",
       "        45.8, 36. , 45.5, 64. , 50.4, 23.4, 61.4, 44.3, 62.1, 53.9, 75.9,\n",
       "        35.3, 56.5, 37. , 49.8, 61.1, 64.6, 52.5, 47.2, 41.5, 61.5, 24.6,\n",
       "        42.2, 32. , 47.6, 41.9, 59.8, 50.1, 35.1, 36. , 53.3, 54. , 39.2,\n",
       "        47.4, 54.1, 48.9, 49.6, 55.1, 49.4],\n",
       "       [48.8, 59.8, 46.6, 44.2, 40.8, 36.6, 58.4, 70.3, 57.1, 65.6, 30.3,\n",
       "        37.3, 51.3, 43.3, 44. , 41.7, 66.4, 35.1, 53.5, 46.8, 58.8, 45. ,\n",
       "        59.6, 53.5, 49.9, 47.5, 57.2, 47.5, 58.9, 67.9, 48. , 53.7, 44.8,\n",
       "        58.5, 36.7, 57.7, 55.7, 46.5, 48.7, 41.8, 41.9, 54.7, 53.6, 57.1,\n",
       "        38.9, 39.9, 69.7, 35.2, 54.2, 41.9],\n",
       "       [61.5, 50.5, 52.5, 39.8, 54.8, 48.8, 67.3, 47.5, 57.9, 38.3, 48.2,\n",
       "        56.6, 44.7, 58.4, 38.3, 52.5, 50.3, 57.8, 44.8, 55.3, 43.4, 46.6,\n",
       "        59.3, 41. , 40.7, 41. , 49.4, 40.9, 49.8, 46. , 48.7, 52.3, 42.2,\n",
       "        61.6, 49.2, 43.8, 63.3, 41.6, 49.8, 48.1, 35. , 29.5, 49.1, 54.8,\n",
       "        32.5, 34.2, 43.3, 37.7, 30.6, 48.5],\n",
       "       [55.7, 51.3, 49.9, 39.2, 37.9, 58.6, 53.9, 50.8, 71. , 53.9, 52.8,\n",
       "        39.9, 38. , 37. , 46.9, 51.3, 55.1, 51.7, 41.6, 56.9, 56. , 51.5,\n",
       "        44.6, 47.9, 62.8, 41.1, 46.4, 43.6, 46.4, 45.4, 52. , 41.2, 55.7,\n",
       "        53.3, 45.7, 56.4, 46.4, 29.5, 43.2, 52.9, 47.7, 52.4, 68.7, 46.2,\n",
       "        47.3, 60. , 55.9, 42.9, 33.9, 53.2],\n",
       "       [34.9, 66.8, 44.5, 65.8, 50.6, 36.7, 35.3, 67. , 55.1, 67.5, 48.3,\n",
       "        48. , 46. , 39.5, 59.7, 39.9, 48.9, 59.7, 41.3, 57.2, 50.5, 60.7,\n",
       "        54.2, 50.3, 46.3, 42.2, 65.5, 49.2, 46.9, 33.6, 35.3, 46.4, 52.4,\n",
       "        69. , 50. , 58.9, 42.5, 48. , 49.6, 66.8, 56. , 46.5, 53.7, 47.9,\n",
       "        49.7, 42.5, 52.7, 59.9, 50. , 51.8],\n",
       "       [51.7, 52.4, 55.3, 38.9, 56.7, 40.9, 40.6, 55.9, 45.9, 42.2, 54.4,\n",
       "        49.1, 36.9, 44. , 43.8, 37.2, 46.8, 68.1, 55.5, 60.4, 59.6, 35.4,\n",
       "        64.9, 47.2, 62.7, 38. , 40.8, 52.4, 44.5, 54.4, 55.8, 69.4, 30.5,\n",
       "        41.7, 47. , 35.1, 46.5, 52.1, 65.7, 57. , 54.9, 54.4, 39.4, 53.4,\n",
       "        47. , 36. , 40.4, 73.3, 65.3, 54.2],\n",
       "       [34.3, 38.3, 56.6, 47.7, 52.6, 34.9, 22.6, 41.4, 43.4, 43.1, 41.5,\n",
       "        51.5, 43.3, 34. , 30.4, 41.2, 38.6, 41. , 48.3, 63.5, 58.4, 33.4,\n",
       "        49.1, 61.4, 49.3, 37.8, 46.2, 46.2, 40.1, 54.1, 52.2, 42.1, 46.8,\n",
       "        52.4, 52.3, 49.8, 63.4, 44.3, 47.9, 32.2, 48.1, 41.6, 51.2, 50.6,\n",
       "        56.5, 51. , 45.8, 24.2, 53.3, 41.3],\n",
       "       [51.6, 57.5, 52.7, 70.1, 42.8, 37.2, 38.9, 41.4, 50.5, 50.1, 36.4,\n",
       "        52.3, 75. , 54.6, 45.6, 58.8, 26.4, 55.6, 45.2, 41.6, 40.3, 32.1,\n",
       "        51.9, 53.3, 66.3, 32.7, 42.3, 45.5, 52.5, 40.1, 58. , 59.5, 64.2,\n",
       "        49.4, 38.1, 38.1, 56. , 51.8, 52.3, 65.3, 39.3, 48.9, 46.9, 60.5,\n",
       "        49.2, 54.5, 44. , 44.5, 34.1, 63. ],\n",
       "       [54. , 46.6, 47. , 39.6, 54.1, 40.3, 40.3, 50.1, 40.4, 52.9, 39.4,\n",
       "        59.5, 46.5, 33.2, 44.3, 47.8, 57.1, 49.6, 42.9, 57.4, 54.3, 50. ,\n",
       "        46.5, 42.4, 60.4, 62.2, 64.1, 55.4, 47.2, 48.5, 58.3, 42.1, 50.5,\n",
       "        57.1, 50.5, 42.4, 35.8, 44.5, 53.2, 48.6, 51.4, 48.2, 49.8, 47.8,\n",
       "        53. , 47.1, 59.1, 44. , 43.7, 64.6],\n",
       "       [35.7, 36. , 40. , 40.8, 54.8, 60. , 48.2, 44.1, 59. , 47.8, 42.4,\n",
       "        37.6, 36.2, 56.4, 44.8, 37. , 34.9, 66.4, 45.5, 52.4, 49.3, 44.7,\n",
       "        37.6, 51.5, 47.1, 40.7, 47.9, 54.1, 50.9, 54.6, 64.6, 58.8, 56.3,\n",
       "        49.4, 54.5, 42.9, 56.9, 48.1, 51. , 43.6, 60.7, 57.8, 58.5, 49.5,\n",
       "        48.1, 58.1, 47.7, 65.1, 41.4, 58.1],\n",
       "       [54.9, 50.5, 46.5, 47.2, 61.3, 45.3, 52.8, 71.3, 58.5, 48.3, 45.4,\n",
       "        41.9, 46.1, 57.6, 49.7, 47.5, 65. , 46.3, 48. , 41.1, 62.6, 67.7,\n",
       "        60.9, 44.4, 43. , 45.2, 76.6, 33.3, 53.1, 49.7, 32.8, 41. , 33.8,\n",
       "        45.6, 36.3, 47.9, 62.1, 42.4, 50.6, 61.9, 53.2, 57.7, 39.4, 35.8,\n",
       "        66.6, 31.4, 54.6, 54.1, 64.6, 44.7],\n",
       "       [55.2, 50.3, 53.4, 34.5, 46.7, 44.7, 32.8, 55.1, 56.7, 30. , 39.7,\n",
       "        52.9, 41.8, 68.4, 43.1, 49.4, 46. , 39.1, 57.7, 25.3, 42.9, 54.4,\n",
       "        34.1, 37. , 40.3, 48.7, 47.2, 35. , 52.1, 57.9, 51.8, 61.4, 42.5,\n",
       "        54.1, 51.4, 45.4, 50.8, 43.4, 56.7, 35.4, 56.2, 62.3, 58.9, 59.9,\n",
       "        64.7, 40.2, 51.1, 56.5, 38.7, 35.6],\n",
       "       [59.2, 56.7, 62.5, 58.7, 46.9, 65.5, 54.2, 33.2, 42.4, 38.3, 38.4,\n",
       "        24.3, 38.1, 57.4, 37.7, 62. , 41.2, 56.9, 54.8, 62.1, 55.3, 41. ,\n",
       "        52.7, 35.5, 50.9, 51.5, 51. , 58.7, 37.1, 40.1, 53.9, 59.2, 36.8,\n",
       "        38.5, 68.9, 62.9, 47.2, 46.1, 45.4, 59.6, 51.3, 48. , 58.5, 49.4,\n",
       "        53.7, 35.2, 50.1, 44.8, 32.2, 45.3]])"
      ]
     },
     "execution_count": 15,
     "metadata": {},
     "output_type": "execute_result"
    }
   ],
   "source": [
    "np.mean(np.split(A, 10, axis=0), axis=0)"
   ]
  },
  {
   "cell_type": "markdown",
   "metadata": {},
   "source": [
    "# Задание 2.10 (4 балла)\n",
    "\n",
    "\"Разверните\" массив `A` в одномерный массив. Оставьте в нём только уникальные элементы в том же порядке, в котором они встречаются в массиве. Используйте [np.unique()](https://numpy.org/doc/stable/reference/generated/numpy.unique.html)"
   ]
  },
  {
   "cell_type": "markdown",
   "metadata": {},
   "source": [
    "Развернем массив:"
   ]
  },
  {
   "cell_type": "code",
   "execution_count": 16,
   "metadata": {},
   "outputs": [
    {
     "data": {
      "text/plain": [
       "array([54, 15, 52, ..., 44, 73, 59])"
      ]
     },
     "execution_count": 16,
     "metadata": {},
     "output_type": "execute_result"
    }
   ],
   "source": [
    "ravel_A = np.ravel(A)\n",
    "ravel_A"
   ]
  },
  {
   "cell_type": "code",
   "execution_count": 17,
   "metadata": {},
   "outputs": [],
   "source": [
    "uniq, indices = np.unique(ravel_A, return_index=True)\n"
   ]
  },
  {
   "cell_type": "markdown",
   "metadata": {},
   "source": [
    "Уникальные элементы в том порядке, в котором они встречаются в массиве:"
   ]
  },
  {
   "cell_type": "code",
   "execution_count": 18,
   "metadata": {},
   "outputs": [
    {
     "data": {
      "text/plain": [
       "array([54, 15, 52, 50, 88, 90, 96, 86, 22, 35, 59,  4,  6, 63, 55, 78, 13,\n",
       "       19, 95, 12, 41, 49, 69, 42, 57, 53, 47, 36, 40, 79, 30, 93, 75, 37,\n",
       "       82, 68, 58, 76, 51, 20, 85, 29, 17, 33, 56, 73, 64, 27, 97, 99, 21,\n",
       "        1, 81, 94,  3, 46, 62, 24, 72, 91, 23, 60, 74, 48, 65, 45, 14, 32,\n",
       "       66, 87, 26, 71,  8, 80, 84, 18, 89, 44,  0, 38, 34, 10, 39, 70, 67,\n",
       "        2, 92, 77, 11, 25, 83, 16, 98, 61, 43, 31, 28,  7,  9,  5])"
      ]
     },
     "execution_count": 18,
     "metadata": {},
     "output_type": "execute_result"
    }
   ],
   "source": [
    "uniq[np.argsort(indices)]"
   ]
  },
  {
   "cell_type": "markdown",
   "metadata": {},
   "source": [
    "# Задание 2.11 (3 балла)\n",
    "\n",
    "Создайте одномерный массив размерности $200$, в котором каждый элемент - евклидово расстояние между соответствующей строкой `A` и \"средней\" строкой `A`"
   ]
  },
  {
   "cell_type": "code",
   "execution_count": 19,
   "metadata": {},
   "outputs": [
    {
     "data": {
      "text/plain": [
       "array([188.63609444, 202.92485339, 194.96947485, 203.81650111,\n",
       "       209.22534771, 205.5974857 , 188.27372659, 198.2934344 ,\n",
       "       229.58995214, 211.87851737, 208.66742948, 203.16236395,\n",
       "       207.97347457, 191.75569385, 210.51414709, 213.01259617,\n",
       "       198.96435893, 198.48850376, 195.8675474 , 200.25555205,\n",
       "       217.35686353, 224.5451984 , 221.97591339, 211.98586303,\n",
       "       214.73634095, 203.13452716, 209.87483443, 204.46962152,\n",
       "       188.13087499, 207.10981658, 197.26037647, 206.69026616,\n",
       "       185.76236466, 200.25705013, 191.76356829, 202.00726751,\n",
       "       201.06691952, 176.35701326, 189.32391852, 216.4560374 ,\n",
       "       205.25841304, 201.72455509, 180.13860254, 212.04760344,\n",
       "       199.69515799, 204.02797878, 192.38307131, 227.82064464,\n",
       "       198.36619199, 206.03765706, 173.41293529, 192.148266  ,\n",
       "       195.40152539, 186.69682945, 208.35910377, 189.39056504,\n",
       "       207.05592511, 202.64892333, 189.6164975 , 198.99973901,\n",
       "       224.31641965, 196.46067323, 206.74713087, 199.0667881 ,\n",
       "       201.36654669, 201.19432429, 201.50527568, 198.64983293,\n",
       "       206.92258486, 191.46291057, 208.84704002, 196.2994807 ,\n",
       "       191.38930515, 169.225814  , 213.03848508, 192.47497532,\n",
       "       206.0111068 , 228.09210009, 198.14329695, 190.55544108,\n",
       "       189.77377618, 209.89958581, 226.42622667, 193.83734451,\n",
       "       214.74083479, 211.79968396, 211.86789782, 205.55599268,\n",
       "       194.92905408, 164.69795422, 191.30427629, 204.75662657,\n",
       "       198.19716478, 206.55211479, 213.25469778, 209.14204772,\n",
       "       183.47083181, 205.50334821, 191.38337474, 238.86198133,\n",
       "       208.30918397, 218.71130772, 220.49212259, 185.06405952,\n",
       "       221.18224641, 188.43990057, 188.43289555, 174.83622658,\n",
       "       187.26488225, 210.30355709, 207.24769269, 203.08930579,\n",
       "       205.63009538, 207.5888632 , 216.51264657, 198.06000637,\n",
       "       169.8198932 , 191.00396887, 190.33348661, 211.10631474,\n",
       "       194.2437544 , 204.9768429 , 215.67664715, 187.4011903 ,\n",
       "       200.26638791, 206.50008747, 209.62055273, 208.36923027,\n",
       "       205.15651617, 191.03616444, 209.25562388, 207.35842429,\n",
       "       199.75686753, 204.31166419, 204.5597373 , 191.56775857,\n",
       "       229.00193476, 190.40665988, 196.02368766, 200.24064554,\n",
       "       200.82289741, 187.06946871, 208.45353469, 198.84145977,\n",
       "       206.84923525, 200.49228445, 213.12547038, 185.79363855,\n",
       "       207.40216037, 208.05890061, 208.08643907, 208.66263711,\n",
       "       177.80524774, 209.20940735, 203.98712245, 193.48743144,\n",
       "       188.27308922, 183.29330627, 199.12324356, 182.97217309,\n",
       "       202.78090671, 203.73435185, 221.3245493 , 178.19367588,\n",
       "       177.41357368, 231.74098931, 217.11056198, 227.8286113 ,\n",
       "       202.19890238, 203.46153476, 181.74098637, 233.4440321 ,\n",
       "       200.1682945 , 189.42657186, 201.64606648, 196.61001024,\n",
       "       189.72199695, 183.78965184, 200.69371222, 215.57229907,\n",
       "       190.28535447, 217.61853351, 190.93982331, 185.32653918,\n",
       "       191.15973981, 172.78523121, 190.00006875, 210.09987179,\n",
       "       186.93674365, 199.11844748, 193.23140564, 209.08927788,\n",
       "       203.78850832, 224.88413934, 196.25360156, 185.70378597,\n",
       "       208.78969353, 180.82924577, 216.98685703, 213.00520211])"
      ]
     },
     "execution_count": 19,
     "metadata": {},
     "output_type": "execute_result"
    }
   ],
   "source": [
    "mean_row = np.mean(A, axis=0)\n",
    "np.linalg.norm(A - mean_row, axis=1)"
   ]
  },
  {
   "cell_type": "markdown",
   "metadata": {},
   "source": [
    "# Задание 2.12 (2 балла)\n",
    "\n",
    "Создайте новый массив, который состоит из элементов `A`, измененных по следующим правилам:\n",
    "- если элемент меньше $50$, то он умножается на $2$\n",
    "- в противном случае он умножается на $3$\n",
    "\n",
    "Используйте [np.where()](https://numpy.org/doc/stable/reference/generated/numpy.where.html)"
   ]
  },
  {
   "cell_type": "code",
   "execution_count": 20,
   "metadata": {},
   "outputs": [
    {
     "data": {
      "text/plain": [
       "array([[162,  30, 156, ...,  40, 228,  12],\n",
       "       [255,  74,  58, ..., 174, 297, 246],\n",
       "       [150, 282, 195, ..., 213,  30, 195],\n",
       "       ...,\n",
       "       [ 32, 243,  96, ..., 204, 156, 201],\n",
       "       [237, 291,  94, ..., 291, 192,  10],\n",
       "       [273,  62, 213, ...,  88, 219, 177]])"
      ]
     },
     "execution_count": 20,
     "metadata": {},
     "output_type": "execute_result"
    }
   ],
   "source": [
    "np.where(A < 50, A * 2, A * 3)"
   ]
  },
  {
   "cell_type": "markdown",
   "metadata": {},
   "source": [
    "# Задание 2.13 (7 баллов)\n",
    "\n",
    "Разверните массив `A` в одномерный массив. Создайте новый массив той же размерности, состоящий из суммы скользящих средних по окну $3$, $5$, $10$.\n",
    "\n",
    "*Tip: реализуйте функцию, которая считает скользящее среднее. Используйте [np.cumsum()](https://numpy.org/doc/stable/reference/generated/numpy.cumsum.html) или [np.convolve()](https://numpy.org/doc/stable/reference/generated/numpy.convolve.html)*"
   ]
  },
  {
   "cell_type": "code",
   "execution_count": 21,
   "metadata": {},
   "outputs": [],
   "source": [
    "def moving_average(x: npt.NDArray[np.int32], n: int = 3) -> npt.NDArray[np.float64]:\n",
    "    return np.round(np.convolve(x, np.ones(n), 'same') / n, 2)"
   ]
  },
  {
   "cell_type": "code",
   "execution_count": 22,
   "metadata": {},
   "outputs": [
    {
     "data": {
      "text/plain": [
       "array([54, 15, 52, ..., 44, 73, 59])"
      ]
     },
     "execution_count": 22,
     "metadata": {},
     "output_type": "execute_result"
    }
   ],
   "source": [
    "ravel_A = np.ravel(A)\n",
    "ravel_A"
   ]
  },
  {
   "cell_type": "markdown",
   "metadata": {},
   "source": [
    "Скользящее среднее по окну 3:"
   ]
  },
  {
   "cell_type": "code",
   "execution_count": 23,
   "metadata": {},
   "outputs": [
    {
     "data": {
      "text/plain": [
       "array([23.  , 40.33, 39.  , ..., 49.33, 58.67, 44.  ])"
      ]
     },
     "execution_count": 23,
     "metadata": {},
     "output_type": "execute_result"
    }
   ],
   "source": [
    "moving_average(ravel_A, 3)"
   ]
  },
  {
   "cell_type": "markdown",
   "metadata": {},
   "source": [
    "Скользящее среднее по окну 5:"
   ]
  },
  {
   "cell_type": "code",
   "execution_count": 24,
   "metadata": {},
   "outputs": [
    {
     "data": {
      "text/plain": [
       "array([24.2, 34.2, 51.8, ..., 49.8, 41.4, 35.2])"
      ]
     },
     "execution_count": 24,
     "metadata": {},
     "output_type": "execute_result"
    }
   ],
   "source": [
    "moving_average(ravel_A, 5)"
   ]
  },
  {
   "cell_type": "markdown",
   "metadata": {},
   "source": [
    "Скользящее среднее по окну 10:"
   ]
  },
  {
   "cell_type": "code",
   "execution_count": 25,
   "metadata": {},
   "outputs": [
    {
     "data": {
      "text/plain": [
       "array([25.9, 34.9, 44.5, ..., 40.9, 31.8, 27.5])"
      ]
     },
     "execution_count": 25,
     "metadata": {},
     "output_type": "execute_result"
    }
   ],
   "source": [
    "moving_average(ravel_A, 10)"
   ]
  },
  {
   "cell_type": "markdown",
   "metadata": {},
   "source": [
    "# Задание 2.14 (8 баллов)\n",
    "\n",
    "Постройте график функции $$f(x) = (5  \\sin(2x) - \\cos^2(x) - 1 + |x^3| - x^2) / (x^2 + 1)$$  \n",
    "\n",
    "и производной от этой функции.  Найдите минимум с помощью `scipy` и обозначьте его на графике. На этой же оси постройте графики скользящего среднего этой функции с окном $1$, $2$, $5$."
   ]
  },
  {
   "cell_type": "code",
   "execution_count": 26,
   "metadata": {},
   "outputs": [
    {
     "name": "stdout",
     "output_type": "stream",
     "text": [
      "Минимальное значение функции в точке:(-0.4975, -4.8821)\n"
     ]
    }
   ],
   "source": [
    "def f(x: npt.NDArray[np.float64]) -> npt.NDArray[np.float64]:\n",
    "    return (5 * np.sin(2 * x) - (np.cos(x))**2 - 1 + np.abs(x**3) - x**2) / (x**2 + 1)\n",
    "\n",
    "def deriv(x: npt.NDArray[np.float64]) -> npt.NDArray[np.float64]:\n",
    "    return scipy.misc.derivative(f, x)\n",
    "\n",
    "x = np.linspace(-10, 10, 100)\n",
    "y = f(x)\n",
    "\n",
    "x_min_value = float(scipy.optimize.minimize(f, 0).x)\n",
    "y_min_value = f(x_min_value)\n",
    "print(f\"Минимальное значение функции в точке:({x_min_value:0.4f}, {y_min_value:0.4f})\")"
   ]
  },
  {
   "cell_type": "code",
   "execution_count": 27,
   "metadata": {},
   "outputs": [],
   "source": [
    "mov_average_1 = moving_average(y, 1)\n",
    "mov_average_2 = moving_average(y, 2)\n",
    "mov_average_5 = moving_average(y, 5)"
   ]
  },
  {
   "cell_type": "code",
   "execution_count": 28,
   "metadata": {},
   "outputs": [
    {
     "data": {
      "image/png": "[encoded data removed]",
      "text/plain": [
       "<Figure size 640x480 with 1 Axes>"
      ]
     },
     "metadata": {},
     "output_type": "display_data"
    }
   ],
   "source": [
    "plt.plot(x, y, color='black', label='Function',linewidth=2)\n",
    "plt.plot(x, deriv(x), '--', c='blue', label='Derivative')\n",
    "plt.scatter(x_min_value, y_min_value, c='r', label='Minimum')\n",
    "plt.text(2., -5., f\"({x_min_value:0.4f}, {y_min_value:0.4f})\", horizontalalignment='center',\n",
    "         fontsize=8, color='red')\n",
    "\n",
    "plt.plot(x, mov_average_1, ':', c='yellow', label='Moving average - 1')\n",
    "plt.plot(x, mov_average_2, '-.', c='purple', label='Moving average - 2')\n",
    "plt.plot(x, mov_average_5, '--', c='green', label='Moving average - 5')\n",
    "\n",
    "plt.legend(loc='upper center')\n",
    "plt.show()"
   ]
  },
  {
   "cell_type": "markdown",
   "metadata": {},
   "source": [
    "# Задание 2.15 (10 баллов)\n",
    "\n",
    "Есть следующий алгоритм семплинирования, на вход функции подается вектор из целых положительных чисел и число семплов."
   ]
  },
  {
   "cell_type": "code",
   "execution_count": 29,
   "metadata": {},
   "outputs": [
    {
     "data": {
      "text/plain": [
       "[0, 0, 0, 3, 4]"
      ]
     },
     "execution_count": 29,
     "metadata": {},
     "output_type": "execute_result"
    }
   ],
   "source": [
    "from typing import List \n",
    "\n",
    "def sample(x: List[int], c: int) -> List[int]:\n",
    "    assert len(x) > 0\n",
    "    \n",
    "    s = np.sum(x)\n",
    "    res = []\n",
    "    for _ in range(c):\n",
    "        val = s * np.random.random()\n",
    "        cur, idx = 0, 0        \n",
    "        while cur + x[idx] <= val:\n",
    "            cur += x[idx]\n",
    "            idx += 1\n",
    "            \n",
    "        res.append(idx)\n",
    "    return res\n",
    "\n",
    "            \n",
    "sample([50, 3, 1, 7, 20], 5)   "
   ]
  },
  {
   "cell_type": "markdown",
   "metadata": {},
   "source": [
    "Реализуйте данный алгоритм более оптимальным способом на массивах `numpy`, без использования циклов. Проверьте корректность и идентичность алгоритмов семплирования с помощью статистических тестов."
   ]
  },
  {
   "cell_type": "code",
   "execution_count": 30,
   "metadata": {},
   "outputs": [
    {
     "data": {
      "text/plain": [
       "array([0, 0, 0, 3, 0])"
      ]
     },
     "execution_count": 30,
     "metadata": {},
     "output_type": "execute_result"
    }
   ],
   "source": [
    "def sample_np(x: npt.NDArray[np.int32], c: int) -> npt.NDArray[np.int32]:\n",
    "    assert len(x) > 0\n",
    "    \n",
    "    s = np.sum(x)\n",
    "    indices = np.array(c)\n",
    "    sums = np.cumsum(x)\n",
    "\n",
    "    values = s * np.random.random(size=(c, 1))\n",
    "    result = np.sum(sums < values, axis=1)\n",
    "    \n",
    "    return result\n",
    "\n",
    "            \n",
    "sample_np(np.array([50, 3, 1, 7, 20]), 5)   "
   ]
  },
  {
   "cell_type": "markdown",
   "metadata": {},
   "source": [
    "Используем критерий Стьюдента для проверки нулевой гипотезы о том, что две независимые выборки имеют одинаковые мат. ожидания. Уровень статистической значимости $\\alpha$ = 0.05"
   ]
  },
  {
   "cell_type": "code",
   "execution_count": 37,
   "metadata": {},
   "outputs": [
    {
     "data": {
      "text/plain": [
       "Ttest_indResult(statistic=0.27378753126807565, pvalue=0.7852205862749227)"
      ]
     },
     "execution_count": 37,
     "metadata": {},
     "output_type": "execute_result"
    }
   ],
   "source": [
    "import scipy.stats as stats\n",
    "\n",
    "sample1 = sample([50, 3, 1, 7, 20], 30)\n",
    "sample2 = sample_np(np.array([50, 3, 1, 7, 20]), 30)   \n",
    "stats.ttest_ind(a=sample1, b=sample2) "
   ]
  },
  {
   "cell_type": "markdown",
   "metadata": {},
   "source": [
    "p-value > 0.05, значит нулевая гипотеза не может быть отвергнута. Нет оснований сказать, что мат. ожидание различны."
   ]
  },
  {
   "cell_type": "markdown",
   "metadata": {},
   "source": [
    "# Задание 2.16 (5 баллов)\n",
    "\n",
    "Есть следующий алгоритм \"случайного блуждания\""
   ]
  },
  {
   "cell_type": "code",
   "execution_count": 38,
   "metadata": {},
   "outputs": [
    {
     "name": "stdout",
     "output_type": "stream",
     "text": [
      "Полученное значение: 2106\n",
      "Для 100 запусков время: 0.5174841520001792 секунд\n"
     ]
    }
   ],
   "source": [
    "import random \n",
    "import timeit\n",
    "\n",
    "def walk(n: int) -> int:\n",
    "    cur_position = 0\n",
    "    for i in range(n):\n",
    "        cur_position += random.choice([-3, -1, 0, 2, 3])\n",
    "\n",
    "    return cur_position\n",
    "\n",
    "print(f\"Полученное значение: {walk(10000)}\")\n",
    "\n",
    "run_count = 100\n",
    "t = timeit.Timer(\"walk(10000)\", 'from __main__ import walk')\n",
    "print(f\"Для {run_count} запусков время: {t.timeit(run_count)} секунд\")"
   ]
  },
  {
   "cell_type": "markdown",
   "metadata": {},
   "source": [
    "Реализуйте более эффективную версию с помощью `numpy`, сравните производительность (используя, например, magic `timeit`). Воспользовавшись [kdeplot()](https://seaborn.pydata.org/generated/seaborn.kdeplot.html) или аналогами, постройте график распределения значений `walk(10_000)` на каком-то разумном запусков. "
   ]
  },
  {
   "cell_type": "code",
   "execution_count": 39,
   "metadata": {},
   "outputs": [
    {
     "name": "stdout",
     "output_type": "stream",
     "text": [
      "Полученное значение: 1921\n",
      "Для 100 запусков время: 0.027357658999790146 секунд\n"
     ]
    }
   ],
   "source": [
    "def walk_np(n: int) -> int:\n",
    "    steps = np.random.choice([-3, -1, 0, 2, 3], size=(n,))\n",
    "    walk = np.cumsum(steps)\n",
    "    \n",
    "    return walk[-1]\n",
    "\n",
    "print(f\"Полученное значение: {walk(10000)}\")\n",
    "\n",
    "run_count = 100\n",
    "t = timeit.Timer(\"walk_np(10000)\", 'from __main__ import walk_np')\n",
    "print(f\"Для {run_count} запусков время: {t.timeit(run_count)} секунд\")"
   ]
  },
  {
   "cell_type": "markdown",
   "metadata": {},
   "source": [
    "Реализация с помощью `Numpy` для 100 значений `walk(10_000)` дает преимущество в производительности на 1-2 порядка"
   ]
  },
  {
   "cell_type": "code",
   "execution_count": 40,
   "metadata": {},
   "outputs": [
    {
     "data": {
      "text/plain": [
       "array([2328., 2184., 2139., ..., 1999., 2275., 2019.])"
      ]
     },
     "execution_count": 40,
     "metadata": {},
     "output_type": "execute_result"
    }
   ],
   "source": [
    "run_count = 10000\n",
    "dist = np.empty(run_count)\n",
    "for i in range (run_count):\n",
    "    dist[i] = walk_np(10000)\n",
    "\n",
    "dist"
   ]
  },
  {
   "cell_type": "code",
   "execution_count": 41,
   "metadata": {},
   "outputs": [
    {
     "data": {
      "text/plain": [
       "<AxesSubplot:ylabel='Density'>"
      ]
     },
     "execution_count": 41,
     "metadata": {},
     "output_type": "execute_result"
    },
    {
     "data": {
      "image/png": "[encoded data removed]",
      "text/plain": [
       "<Figure size 640x480 with 1 Axes>"
      ]
     },
     "metadata": {},
     "output_type": "display_data"
    }
   ],
   "source": [
    "sns.kdeplot(dist)"
   ]
  },
  {
   "cell_type": "markdown",
   "metadata": {},
   "source": [
    "Для большого количества повторений алгоритма \"случайного блуждания\" получается нормальное распределение, c мат. ожиданием в диапазоне 2000"
   ]
  },
  {
   "cell_type": "code",
   "execution_count": 42,
   "metadata": {},
   "outputs": [
    {
     "name": "stdout",
     "output_type": "stream",
     "text": [
      "Среднее значение: 1997.4514\n"
     ]
    },
    {
     "data": {
      "text/plain": [
       "NormaltestResult(statistic=0.8057085552993729, pvalue=0.6684094944295664)"
      ]
     },
     "execution_count": 42,
     "metadata": {},
     "output_type": "execute_result"
    }
   ],
   "source": [
    "print(f\"Среднее значение: {dist.mean()}\")\n",
    "stats.normaltest(dist, nan_policy='propagate')"
   ]
  },
  {
   "cell_type": "markdown",
   "metadata": {},
   "source": [
    "# Задание 2.17 (5 баллов)\n",
    "\n",
    "Имеется функция, которая проделывает достаточно странные манипуляции с массивом `numpy`"
   ]
  },
  {
   "cell_type": "code",
   "execution_count": 56,
   "metadata": {},
   "outputs": [],
   "source": [
    "import numpy.typing as npt\n",
    "\n",
    "def strange_conv(a: npt.NDArray[np.float64]) -> np.float64:\n",
    "    x = a.shape[0]\n",
    "    y = a.shape[1]\n",
    "\n",
    "    t = 1.\n",
    "    for y in range(y - 5):\n",
    "        for x in range(x - 3):\n",
    "            c = 1.5 * a[y+1, x+2] - a[y+5, x+3] * a[y, x] + 0.2 * a[y+4, x]\n",
    "            t = 0.2 * t + 0.8 * c\n",
    "\n",
    "    return t\n",
    "\n",
    "a = np.random.random((10000, 10000))"
   ]
  },
  {
   "cell_type": "markdown",
   "metadata": {},
   "source": [
    "Оптимизируйте данную функцию с помощью (2 на выбор):\n",
    "- [Numba](https://numba.pydata.org)\n",
    "- `Cython` (+5 баллов)\n",
    "- [Taichi](https://github.com/taichi-dev/taichi) (+5 баллов)\n",
    "- `Pythran `[[1]](https://pythran.readthedocs.io/en/latest/), [[2]](https://serge-sans-paille.github.io/pythran-stories/pythran-tutorial.html) (+2 балла)\n",
    "\n",
    "Сравните производительность."
   ]
  },
  {
   "cell_type": "markdown",
   "metadata": {},
   "source": [
    "## Numba"
   ]
  },
  {
   "cell_type": "code",
   "execution_count": 45,
   "metadata": {},
   "outputs": [
    {
     "data": {
      "text/plain": [
       "0.42788803899929917"
      ]
     },
     "execution_count": 45,
     "metadata": {},
     "output_type": "execute_result"
    }
   ],
   "source": [
    "from numba import njit, float64\n",
    "\n",
    "@njit\n",
    "def strange_conv_numba(a: npt.NDArray[np.float64]) -> np.float64:\n",
    "    x = a.shape[0]\n",
    "    y = a.shape[1]\n",
    "\n",
    "    t = 1.\n",
    "    for y in range(y - 5):\n",
    "        for x in range(x - 3):\n",
    "            c = 1.5 * a[y+1, x+2] - a[y+5, x+3] * a[y, x] + 0.2 * a[y+4, x]\n",
    "            t = 0.2 * t + 0.8 * c\n",
    "\n",
    "    return t\n",
    "\n",
    "a = np.random.random((10000, 10000))\n",
    "t = timeit.Timer(\"strange_conv_numba(a)\", 'from __main__ import strange_conv_numba, a')\n",
    "t.timeit(1)"
   ]
  },
  {
   "cell_type": "markdown",
   "metadata": {},
   "source": [
    "## Cython"
   ]
  },
  {
   "cell_type": "code",
   "execution_count": 52,
   "metadata": {},
   "outputs": [],
   "source": [
    "%load_ext Cython"
   ]
  },
  {
   "cell_type": "code",
   "execution_count": 55,
   "metadata": {},
   "outputs": [
    {
     "name": "stderr",
     "output_type": "stream",
     "text": [
      "In file included from /home/dmitry/.local/lib/python3.10/site-packages/numpy/core/include/numpy/ndarraytypes.h:1948,\n",
      "                 from /home/dmitry/.local/lib/python3.10/site-packages/numpy/core/include/numpy/ndarrayobject.h:12,\n",
      "                 from /home/dmitry/.local/lib/python3.10/site-packages/numpy/core/include/numpy/arrayobject.h:5,\n",
      "                 from /home/dmitry/.cache/ipython/cython/_cython_magic_77663d8a8f3bbe69dc5c581d375e423d.c:770:\n",
      "/home/dmitry/.local/lib/python3.10/site-packages/numpy/core/include/numpy/npy_1_7_deprecated_api.h:17:2: warning: #warning \"Using deprecated NumPy API, disable it with \" \"#define NPY_NO_DEPRECATED_API NPY_1_7_API_VERSION\" [-Wcpp]\n",
      "   17 | #warning \"Using deprecated NumPy API, disable it with \" \\\n",
      "      |  ^~~~~~~\n"
     ]
    }
   ],
   "source": [
    "%%cython\n",
    "\n",
    "cimport numpy\n",
    "\n",
    "def strange_conv_cython(numpy.ndarray['double', ndim=2] a):\n",
    "    cdef int x = a.shape[0]\n",
    "    cdef int y = a.shape[1]\n",
    "    cdef double t = 1.0\n",
    "\n",
    "    for y in range(y - 5):\n",
    "        for x in range(x - 3):\n",
    "            c = 1.5 * a[y+1, x+2] - a[y+5, x+3] * a[y, x] + 0.2 * a[y+4, x]\n",
    "            t = 0.2 * t + 0.8 * c\n",
    "\n",
    "    return t"
   ]
  },
  {
   "cell_type": "markdown",
   "metadata": {},
   "source": [
    "Результаты:\n",
    "1. Python\n",
    "2. Numba\n",
    "3. Cython"
   ]
  },
  {
   "cell_type": "code",
   "execution_count": 59,
   "metadata": {},
   "outputs": [
    {
     "name": "stdout",
     "output_type": "stream",
     "text": [
      "15.6 s ± 831 ms per loop (mean ± std. dev. of 7 runs, 1 loop each)\n"
     ]
    }
   ],
   "source": [
    "%%timeit\n",
    "strange_conv(a)"
   ]
  },
  {
   "cell_type": "code",
   "execution_count": 63,
   "metadata": {},
   "outputs": [
    {
     "name": "stdout",
     "output_type": "stream",
     "text": [
      "34.8 ms ± 2.2 ms per loop (mean ± std. dev. of 7 runs, 10 loops each)\n"
     ]
    }
   ],
   "source": [
    "%%timeit\n",
    "strange_conv_numba(a)"
   ]
  },
  {
   "cell_type": "code",
   "execution_count": 64,
   "metadata": {},
   "outputs": [
    {
     "name": "stdout",
     "output_type": "stream",
     "text": [
      "554 ms ± 26 ms per loop (mean ± std. dev. of 7 runs, 1 loop each)\n"
     ]
    }
   ],
   "source": [
    "%%timeit\n",
    "strange_conv_cython(a)"
   ]
  }
 ],
 "metadata": {
  "kernelspec": {
   "display_name": "Python 3 (ipykernel)",
   "language": "python",
   "name": "python3"
  },
  "language_info": {
   "codemirror_mode": {
    "name": "ipython",
    "version": 3
   },
   "file_extension": ".py",
   "mimetype": "text/x-python",
   "name": "python",
   "nbconvert_exporter": "python",
   "pygments_lexer": "ipython3",
   "version": "3.10.6"
  },
  "vscode": {
   "interpreter": {
    "hash": "916dbcbb3f70747c44a77c7bcd40155683ae19c65e1c03b4aa3499c5328201f1"
   }
  }
 },
 "nbformat": 4,
 "nbformat_minor": 2
}
