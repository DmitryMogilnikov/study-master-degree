{
 "cells": [
  {
   "cell_type": "code",
   "execution_count": 1,
   "metadata": {},
   "outputs": [],
   "source": [
    "import numpy as np\n",
    "\n",
    "# Функция для вычисления евклидова расстояния между двумя точками\n",
    "def euclidean_distance(x1, x2):\n",
    "    return np.sqrt(np.sum((x1 - x2)**2))\n",
    "\n",
    "# Функция для нахождения двух ближайших кластеров в списке кластеров\n",
    "def find_closest_clusters(clusters):\n",
    "    min_dist = float('inf')\n",
    "    closest_clusters = None\n",
    "    for i in range(len(clusters)):\n",
    "        for j in range(i+1, len(clusters)):\n",
    "            dist = euclidean_distance(clusters[i].mean, clusters[j].mean)\n",
    "            if dist < min_dist:\n",
    "                min_dist = dist\n",
    "                closest_clusters = (i, j)\n",
    "    return closest_clusters\n",
    "\n",
    "# Класс для представления кластера как списка точек и среднего значения\n",
    "class Cluster:\n",
    "    def __init__(self, points):\n",
    "        self.points = points\n",
    "        self.mean = np.mean(points, axis=0)\n",
    "\n",
    "\n",
    "def agglomerative_clustering(X, n_clusters):\n",
    "    # Инициализируем каждую точку как отдельный кластер\n",
    "    clusters = [Cluster([x]) for x in X]\n",
    "    for elem in clusters:\n",
    "        print(elem.points)\n",
    "    print('\\n')\n",
    "    # Повторяем до тех пор, пока не останется нужное число кластеров\n",
    "    while len(clusters) > n_clusters:\n",
    "        # Находим два ближайших кластера и объединяем их в один новый кластер\n",
    "        i, j = find_closest_clusters(clusters)\n",
    "        new_cluster = Cluster(np.concatenate([clusters[i].points, clusters[j].points]))\n",
    "\n",
    "        # Удаляем старые кластера из списка и добавляем новый\n",
    "        del clusters[j]\n",
    "        del clusters[i]\n",
    "        clusters.append(new_cluster)\n",
    "\n",
    "        for elem in clusters:\n",
    "            print(elem.points)\n",
    "        print('\\n')\n",
    "    # Возвращаем список меток кластеров для каждой точки\n",
    "    labels = np.zeros(len(X))\n",
    "    for i, cluster in enumerate(clusters):\n",
    "        for point in cluster.points:\n",
    "            labels[np.where(X == point)[0]] = i\n",
    "            \n",
    "    return labels"
   ]
  },
  {
   "cell_type": "code",
   "execution_count": 2,
   "metadata": {},
   "outputs": [
    {
     "name": "stdout",
     "output_type": "stream",
     "text": [
      "[[0, 3, 1, 0, 0]]\n",
      "[[4, 0, 1, 1, 1]]\n",
      "[[2, 24, 9, 1, 1]]\n",
      "[[1, 0, 4, 1, 0]]\n",
      "[[3, 0, 4, 0, 0]]\n",
      "\n",
      "\n",
      "[[0, 3, 1, 0, 0]]\n",
      "[[4, 0, 1, 1, 1]]\n",
      "[[2, 24, 9, 1, 1]]\n",
      "[[1 0 4 1 0]\n",
      " [3 0 4 0 0]]\n",
      "\n",
      "\n",
      "[[0, 3, 1, 0, 0]]\n",
      "[[2, 24, 9, 1, 1]]\n",
      "[[4 0 1 1 1]\n",
      " [1 0 4 1 0]\n",
      " [3 0 4 0 0]]\n",
      "\n",
      "\n",
      "[[2, 24, 9, 1, 1]]\n",
      "[[0 3 1 0 0]\n",
      " [4 0 1 1 1]\n",
      " [1 0 4 1 0]\n",
      " [3 0 4 0 0]]\n",
      "\n",
      "\n",
      "[[ 2 24  9  1  1]\n",
      " [ 0  3  1  0  0]\n",
      " [ 4  0  1  1  1]\n",
      " [ 1  0  4  1  0]\n",
      " [ 3  0  4  0  0]]\n",
      "\n",
      "\n"
     ]
    },
    {
     "data": {
      "text/plain": [
       "array([0., 0., 0., 0., 0.])"
      ]
     },
     "execution_count": 2,
     "metadata": {},
     "output_type": "execute_result"
    }
   ],
   "source": [
    "data = list([[0, 3, 1, 0, 0],\n",
    "             [4, 0, 1, 1, 1],\n",
    "             [2, 24, 9, 1, 1],\n",
    "             [1, 0, 4, 1, 0],\n",
    "             [3, 0, 4, 0, 0]])\n",
    "agglomerative_clustering(data, 1)"
   ]
  },
  {
   "cell_type": "code",
   "execution_count": null,
   "metadata": {},
   "outputs": [],
   "source": []
  }
 ],
 "metadata": {
  "kernelspec": {
   "display_name": "Python 3",
   "language": "python",
   "name": "python3"
  },
  "language_info": {
   "codemirror_mode": {
    "name": "ipython",
    "version": 3
   },
   "file_extension": ".py",
   "mimetype": "text/x-python",
   "name": "python",
   "nbconvert_exporter": "python",
   "pygments_lexer": "ipython3",
   "version": "3.10.6"
  },
  "orig_nbformat": 4
 },
 "nbformat": 4,
 "nbformat_minor": 2
}
