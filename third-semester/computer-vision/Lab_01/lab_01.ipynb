{
 "cells": [
  {
   "cell_type": "code",
   "execution_count": 8,
   "metadata": {},
   "outputs": [],
   "source": [
    "import os\n",
    "\n",
    "import cv2 as cv\n",
    "import numpy as np"
   ]
  },
  {
   "cell_type": "code",
   "execution_count": 9,
   "metadata": {},
   "outputs": [],
   "source": [
    "input_folder_path = \"tlights\"\n",
    "img_names = os.listdir(input_folder_path)\n",
    "result_folder = \"result\"\n",
    "\n",
    "if not os.path.exists(result_folder):\n",
    "    os.makedirs(result_folder)\n",
    "\n",
    "\n",
    "def get_bgr_image(img_name: str, folder_path: str = input_folder_path) -> np.ndarray[np.uint8]:\n",
    "    return cv.imread(os.path.join(folder_path, img_name))\n",
    "\n",
    "\n",
    "def convert_bgr_to_hsv(img_bgr: np.ndarray[np.uint8]) -> np.ndarray[np.uint8]:\n",
    "    return cv.cvtColor(img_bgr, cv.COLOR_BGR2HSV)\n",
    "\n",
    "\n",
    "def write_filenames_to_txt(result: list[str], color: str) -> None:\n",
    "    with open(f\"{result_folder}/{color}_tlights.txt\", \"w\") as f:\n",
    "        for line in result:\n",
    "            f.write(f\"{line}\\n\")"
   ]
  },
  {
   "cell_type": "code",
   "execution_count": 10,
   "metadata": {},
   "outputs": [],
   "source": [
    "# Диапазоны для красного цвета\n",
    "lower_red_1 = np.array([0, 100, 100])\n",
    "upper_red_1 = np.array([15, 255, 255])\n",
    "lower_red_2 = np.array([170, 100, 100])\n",
    "upper_red_2 = np.array([180, 255, 255])\n",
    "\n",
    "# Диапазон для желтого цвета\n",
    "lower_yellow = np.array([15, 100, 100])\n",
    "upper_yellow = np.array([35, 255, 255])\n",
    "\n",
    "# Диапазон для зеленого цвета\n",
    "lower_green = np.array([60, 100, 100])\n",
    "upper_green = np.array([90, 255, 255])"
   ]
  },
  {
   "cell_type": "code",
   "execution_count": 11,
   "metadata": {},
   "outputs": [],
   "source": [
    "def get_mask(\n",
    "    img_hsv: np.ndarray[np.uint8], \n",
    "    lower_border: np.ndarray[np.uint8], \n",
    "    upper_border: np.ndarray[np.uint8]\n",
    ") -> np.ndarray[np.uint8]:\n",
    "    h, s, v = img_hsv[:, :, 0], img_hsv[:, :, 1], img_hsv[:, :, 2]\n",
    "\n",
    "    mask = np.where(\n",
    "        (h >= lower_border[0]) & (h <= upper_border[0])\n",
    "        & (s >= lower_border[1]) & (s <= upper_border[1])\n",
    "        & (v >= lower_border[2]) & (v <= upper_border[2]),\n",
    "        1, 0,\n",
    "    ).astype(np.uint8)\n",
    "    return mask"
   ]
  },
  {
   "cell_type": "code",
   "execution_count": 12,
   "metadata": {},
   "outputs": [],
   "source": [
    "def get_colors_probability(img_hsv: np.ndarray[np.uint8]) -> tuple[float]:\n",
    "    mask_yellow = get_mask(img_hsv=img_hsv, lower_border=lower_yellow, upper_border=upper_yellow)\n",
    "    mask_red_1 = get_mask(img_hsv=img_hsv, lower_border=lower_red_1, upper_border=upper_red_1)\n",
    "    mask_red_2 = get_mask(img_hsv=img_hsv, lower_border=lower_red_2, upper_border=upper_red_2)\n",
    "    mask_green = get_mask(img_hsv=img_hsv, lower_border=lower_green, upper_border=upper_green)\n",
    "\n",
    "    count_yellow_color = mask_yellow.sum()\n",
    "    count_red_color = mask_red_1.sum() + mask_red_2.sum()\n",
    "    count_green_color = mask_green.sum()\n",
    "    count_all_colors = count_yellow_color + count_red_color + count_green_color\n",
    "\n",
    "    prob_yellow_color = count_yellow_color / count_all_colors\n",
    "    prob_red_color = count_red_color / count_all_colors\n",
    "    prob_green_color = count_green_color / count_all_colors\n",
    "\n",
    "    return prob_yellow_color, prob_red_color, prob_green_color"
   ]
  },
  {
   "cell_type": "code",
   "execution_count": 13,
   "metadata": {},
   "outputs": [],
   "source": [
    "files_yellow_tlights = []\n",
    "files_red_tlights = []\n",
    "files_green_tlights = []\n",
    "files_undefined_tlights = []\n",
    "\n",
    "for img_name in img_names:\n",
    "    img_bgr = get_bgr_image(img_name=img_name)\n",
    "    img_hsv = convert_bgr_to_hsv(img_bgr=img_bgr)\n",
    "\n",
    "    prob_yellow_color, prob_red_color, prob_green_color = get_colors_probability(img_hsv=img_hsv)\n",
    "\n",
    "    if prob_yellow_color > 0.65:\n",
    "        files_yellow_tlights.append(img_name)\n",
    "    elif prob_red_color > 0.65:\n",
    "        files_red_tlights.append(img_name)\n",
    "    elif prob_green_color > 0.65:\n",
    "        files_green_tlights.append(img_name)\n",
    "    else:\n",
    "        files_undefined_tlights.append(img_name)\n"
   ]
  },
  {
   "cell_type": "code",
   "execution_count": 14,
   "metadata": {},
   "outputs": [],
   "source": [
    "write_filenames_to_txt(result=files_yellow_tlights, color=\"yellow\")\n",
    "write_filenames_to_txt(result=files_red_tlights, color=\"red\")\n",
    "write_filenames_to_txt(result=files_green_tlights, color=\"green\")\n",
    "write_filenames_to_txt(result=files_undefined_tlights, color=\"undefined\")"
   ]
  }
 ],
 "metadata": {
  "kernelspec": {
   "display_name": ".venv",
   "language": "python",
   "name": "python3"
  },
  "language_info": {
   "codemirror_mode": {
    "name": "ipython",
    "version": 3
   },
   "file_extension": ".py",
   "mimetype": "text/x-python",
   "name": "python",
   "nbconvert_exporter": "python",
   "pygments_lexer": "ipython3",
   "version": "3.11.4"
  },
  "orig_nbformat": 4
 },
 "nbformat": 4,
 "nbformat_minor": 2
}
