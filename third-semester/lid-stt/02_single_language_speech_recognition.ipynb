{
 "cells": [
  {
   "cell_type": "code",
   "execution_count": 1,
   "metadata": {},
   "outputs": [],
   "source": [
    "import os\n",
    "import re\n",
    "import json\n",
    "import numpy as np\n",
    "from dataclasses import dataclass\n",
    "from pathlib import Path\n",
    "\n",
    "import torch\n",
    "import evaluate\n",
    "from datasets import Dataset, Audio\n",
    "from transformers import ( Wav2Vec2CTCTokenizer, \n",
    "                           Wav2Vec2FeatureExtractor, \n",
    "                           Wav2Vec2Processor, \n",
    "                           Wav2Vec2ForCTC,\n",
    "                           TrainingArguments, \n",
    "                           Trainer )\n",
    "\n",
    "from typing import Iterable, Generator, Any"
   ]
  },
  {
   "cell_type": "code",
   "execution_count": 2,
   "metadata": {},
   "outputs": [],
   "source": [
    "current_dir = os.getcwd()\n",
    "\n",
    "def check_exists_path(path):\n",
    "    if not os.path.exists(path):\n",
    "        os.makedirs(f\"{current_dir}/{path}\")"
   ]
  },
  {
   "attachments": {},
   "cell_type": "markdown",
   "metadata": {},
   "source": [
    "# Модели Speech Recognition для одного языка\n",
    "## Общие функции\n",
    "### Загрузка датасетов"
   ]
  },
  {
   "cell_type": "code",
   "execution_count": 16,
   "metadata": {},
   "outputs": [],
   "source": [
    "non_alphanum_chars_regexp = re.compile(r\"[^\\w\\s]\", flags=re.IGNORECASE)\n",
    "\n",
    "def remove_special_characters(text: str) -> str:\n",
    "    return re.sub(non_alphanum_chars_regexp, '', text).upper()"
   ]
  },
  {
   "cell_type": "code",
   "execution_count": 13,
   "metadata": {},
   "outputs": [],
   "source": [
    "def samples_generator(split_name: str, lang: str) -> Generator[dict[str, Any], None, None]:\n",
    "    base_path = Path(f\"./data/{split_name}_audio/{lang}/\")\n",
    "    file_path_patttern = f\"*.wav\"\n",
    "    for path in base_path.glob(file_path_patttern):\n",
    "        file_path_template = f\"{path.parent.name}/{path.stem}.{{ext}}\"\n",
    "\n",
    "        audio_path = f\"./data/{split_name}_audio/{file_path_template.format(ext='wav')}\"\n",
    "        text_path = f\"./data/{split_name}_transcription/{file_path_template.format(ext='txt')}\"\n",
    "\n",
    "        with open(text_path, \"r\") as f:\n",
    "            transcription = f.read()\n",
    "        transcription = remove_special_characters(transcription)\n",
    "\n",
    "        yield { \"audio\": audio_path, \"transcription\": transcription }\n",
    "\n",
    "def load_dataset(split_name: str, lang: str) -> Dataset:\n",
    "    return Dataset.from_generator(samples_generator, gen_kwargs={\"split_name\": split_name, \"lang\": lang}).cast_column(\"audio\", Audio(sampling_rate=16000))"
   ]
  },
  {
   "attachments": {},
   "cell_type": "markdown",
   "metadata": {},
   "source": [
    "### Предобработка данных"
   ]
  },
  {
   "cell_type": "code",
   "execution_count": 5,
   "metadata": {},
   "outputs": [],
   "source": [
    "def chars_generator(datasets: Iterable[Dataset]) -> Generator[str, None, None]:\n",
    "    for dataset in datasets:\n",
    "      for text in dataset[\"transcription\"]:\n",
    "         yield from text\n",
    "\n",
    "def create_vocabulary(datasets: Iterable[Dataset], lang: str):\n",
    "   chars = set(chars_generator(datasets))\n",
    "   vocab = {v: k for k, v in enumerate(sorted(chars))}\n",
    "\n",
    "   vocab[\"[UNK]\"] = len(vocab)\n",
    "   vocab[\"[PAD]\"] = len(vocab)\n",
    "\n",
    "   vocab_path = f\"./models/{lang}\"\n",
    "   check_exists_path(vocab_path)\n",
    "   with open(f'{vocab_path}/vocab.json', 'w') as vocab_file:\n",
    "       json.dump(vocab, vocab_file)"
   ]
  },
  {
   "cell_type": "code",
   "execution_count": 3,
   "metadata": {},
   "outputs": [],
   "source": [
    "def create_processor(lang: str) -> Wav2Vec2Processor:\n",
    "    tokenizer = Wav2Vec2CTCTokenizer.from_pretrained(f\"./models/{lang}/\", unk_token=\"[UNK]\", pad_token=\"[PAD]\", word_delimiter_token=\" \")\n",
    "    feature_extractor = Wav2Vec2FeatureExtractor(feature_size=1, sampling_rate=16000, padding_value=0.0, do_normalize=True, return_attention_mask=True)\n",
    "    return Wav2Vec2Processor(feature_extractor=feature_extractor, tokenizer=tokenizer)"
   ]
  },
  {
   "cell_type": "code",
   "execution_count": 14,
   "metadata": {},
   "outputs": [],
   "source": [
    "def tokenize_dataset(dataset: Dataset, processor: Wav2Vec2Processor) -> Dataset:\n",
    "    \n",
    "    def prepare_dataset(batch):\n",
    "        audio = batch[\"audio\"]\n",
    "        batch = processor(audio[\"array\"], sampling_rate=audio[\"sampling_rate\"], text=batch[\"transcription\"])\n",
    "        batch[\"input_length\"] = len(batch[\"input_values\"][0])\n",
    "        return batch\n",
    "    \n",
    "    return dataset.map(prepare_dataset, remove_columns=dataset.column_names)"
   ]
  },
  {
   "cell_type": "code",
   "execution_count": 8,
   "metadata": {},
   "outputs": [],
   "source": [
    "@dataclass\n",
    "class DataCollatorCTCWithPadding:\n",
    "    processor: Wav2Vec2Processor\n",
    "    padding: bool | str = \"longest\"\n",
    "\n",
    "    def __call__(self, features: list[dict[str, list[int] | torch.Tensor]]) -> dict[str, torch.Tensor]:\n",
    "        # split inputs and labels since they have to be of different lengths and need\n",
    "        # different padding methods\n",
    "        input_features = [{\"input_values\": feature[\"input_values\"][0]} for feature in features]\n",
    "        label_features = [{\"input_ids\": feature[\"labels\"]} for feature in features]\n",
    "\n",
    "        batch = self.processor.pad(input_features, padding=self.padding, return_tensors=\"pt\")\n",
    "\n",
    "        labels_batch = self.processor.pad(labels=label_features, padding=self.padding, return_tensors=\"pt\")\n",
    "\n",
    "        # replace padding with -100 to ignore loss correctly\n",
    "        labels = labels_batch[\"input_ids\"].masked_fill(labels_batch.attention_mask.ne(1), -100)\n",
    "\n",
    "        batch[\"labels\"] = labels\n",
    "\n",
    "        return batch"
   ]
  },
  {
   "attachments": {},
   "cell_type": "markdown",
   "metadata": {},
   "source": [
    "### Пайплайн обучения"
   ]
  },
  {
   "cell_type": "code",
   "execution_count": 9,
   "metadata": {},
   "outputs": [],
   "source": [
    "wer = evaluate.load(\"wer\")\n",
    "\n",
    "def get_compute_metrics(processor: Wav2Vec2Processor):\n",
    "    def compute_metrics(pred):\n",
    "        pred_logits = pred.predictions\n",
    "        pred_ids = np.argmax(pred_logits, axis=-1)\n",
    "\n",
    "        pred.label_ids[pred.label_ids == -100] = processor.tokenizer.pad_token_id\n",
    "\n",
    "        pred_str = processor.batch_decode(pred_ids)\n",
    "        label_str = processor.batch_decode(pred.label_ids, group_tokens=False)\n",
    "\n",
    "        wer_value = wer.compute(predictions=pred_str, references=label_str)\n",
    "\n",
    "        return {\"wer\": wer_value}\n",
    "    return compute_metrics"
   ]
  },
  {
   "cell_type": "code",
   "execution_count": 10,
   "metadata": {},
   "outputs": [],
   "source": [
    "def train(lang: str, num_epochs: int, checkpoint_dir: str | None = None) -> Wav2Vec2ForCTC:\n",
    "    train_dataset = load_dataset(\"train\", lang)\n",
    "    test_dataset = load_dataset(\"test\", lang)\n",
    "    validation_dataset = load_dataset(\"valid\", lang)\n",
    "\n",
    "    create_vocabulary([train_dataset, test_dataset, validation_dataset], lang)\n",
    "\n",
    "    processor = create_processor(lang)\n",
    "\n",
    "    train_dataset = tokenize_dataset(train_dataset, processor)\n",
    "    validation_dataset = tokenize_dataset(validation_dataset, processor)\n",
    "\n",
    "    data_collator = DataCollatorCTCWithPadding(processor=processor, padding=True)\n",
    "\n",
    "    compute_metrics = get_compute_metrics(processor)\n",
    "\n",
    "    model = Wav2Vec2ForCTC.from_pretrained(\n",
    "        \"facebook/wav2vec2-base\",\n",
    "        ctc_loss_reduction=\"mean\",\n",
    "        pad_token_id=processor.tokenizer.pad_token_id,\n",
    "        vocab_size=len(processor.tokenizer)\n",
    "    )\n",
    "    \n",
    "    training_args = TrainingArguments(\n",
    "        output_dir=f\"./models/{lang}/\",\n",
    "        remove_unused_columns=False,\n",
    "        per_device_train_batch_size=1,\n",
    "        gradient_accumulation_steps=4,\n",
    "        num_train_epochs=num_epochs,\n",
    "        learning_rate=1e-5,\n",
    "        warmup_steps=500,\n",
    "        gradient_checkpointing=True,\n",
    "        fp16=True,\n",
    "        group_by_length=True,\n",
    "        evaluation_strategy=\"steps\",\n",
    "        per_device_eval_batch_size=2,\n",
    "        save_steps=1000,\n",
    "        eval_steps=200,\n",
    "        logging_steps=200,\n",
    "        load_best_model_at_end=True,\n",
    "        metric_for_best_model=\"wer\",\n",
    "        greater_is_better=False\n",
    "    )\n",
    "    \n",
    "    trainer = Trainer(\n",
    "        model=model,\n",
    "        args=training_args,\n",
    "        train_dataset=train_dataset,\n",
    "        eval_dataset=validation_dataset,\n",
    "        tokenizer=processor,\n",
    "        data_collator=data_collator,\n",
    "        compute_metrics=compute_metrics,\n",
    "    )\n",
    "\n",
    "    if checkpoint_dir:\n",
    "        trainer.train(checkpoint_dir)\n",
    "    else:\n",
    "        trainer.train()\n",
    "\n",
    "    return processor, model"
   ]
  },
  {
   "attachments": {},
   "cell_type": "markdown",
   "metadata": {},
   "source": [
    "## Дообучение моделей"
   ]
  },
  {
   "cell_type": "code",
   "execution_count": 8,
   "metadata": {},
   "outputs": [],
   "source": [
    "en_processor, en_model = train(lang=\"en\", num_epochs=90)\n",
    "en_model_path = \"./models/en\"\n",
    "check_exists_path(en_model_path)\n",
    "torch.save(en_model.state_dict(), f\"{en_model_path}/en_model_state.pth\")"
   ]
  },
  {
   "cell_type": "code",
   "execution_count": null,
   "metadata": {},
   "outputs": [],
   "source": [
    "ru_processor, ru_model = train(lang=\"ru\", num_epochs=90)\n",
    "ru_model_path = \"./models/en\"\n",
    "check_exists_path(ru_model_path)\n",
    "torch.save(ru_model.state_dict(), f\"{ru_model_path}/ru_model_state.pth\")"
   ]
  },
  {
   "cell_type": "code",
   "execution_count": null,
   "metadata": {},
   "outputs": [],
   "source": [
    "de_processor, de_model = train(lang=\"de\", num_epochs=90)\n",
    "de_model_path = \"./models/de\"\n",
    "check_exists_path(de_model_path)\n",
    "torch.save(de_model.state_dict(), f\"{de_model_path}/en_model_state.pth\")"
   ]
  }
 ],
 "metadata": {
  "kernelspec": {
   "display_name": ".venv",
   "language": "python",
   "name": "python3"
  },
  "language_info": {
   "codemirror_mode": {
    "name": "ipython",
    "version": 3
   },
   "file_extension": ".py",
   "mimetype": "text/x-python",
   "name": "python",
   "nbconvert_exporter": "python",
   "pygments_lexer": "ipython3",
   "version": "3.11.4"
  },
  "orig_nbformat": 4
 },
 "nbformat": 4,
 "nbformat_minor": 2
}
