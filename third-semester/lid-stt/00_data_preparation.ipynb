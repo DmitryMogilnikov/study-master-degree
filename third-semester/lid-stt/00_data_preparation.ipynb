{
 "cells": [
  {
   "cell_type": "code",
   "execution_count": 1,
   "metadata": {},
   "outputs": [],
   "source": [
    "import os\n",
    "import librosa\n",
    "import soundfile as sf\n",
    "import matplotlib.pyplot as plt\n",
    "from datasets import load_dataset, DatasetDict\n",
    "from tqdm.notebook import tqdm"
   ]
  },
  {
   "cell_type": "markdown",
   "metadata": {},
   "source": [
    "# Подготовка данных для обучения\n",
    "Выгружаем из датасета данные по трем языкам, которые будем идентефицировать (Русский, Английский, Немецкий)"
   ]
  },
  {
   "cell_type": "code",
   "execution_count": 2,
   "metadata": {},
   "outputs": [],
   "source": [
    "lang_dict = {\n",
    "    \"ru\": \"ru-RU\",\n",
    "    \"en\": \"en-US\",\n",
    "    \"de\": \"de-DE\",\n",
    "}\n",
    "\n",
    "def get_ds_splits(lang: str = \"ru\"):\n",
    "    ds = load_dataset(\"PolyAI/minds14\", lang_dict[lang])\n",
    "    train_test_ds = ds[\"train\"].train_test_split(test_size=0.2, seed=42, shuffle=True)\n",
    "    test_val_ds = train_test_ds[\"test\"].train_test_split(test_size=0.5, seed=42, shuffle=True)\n",
    "\n",
    "    return DatasetDict({\n",
    "    'train': train_test_ds['train'],\n",
    "    'valid': test_val_ds['train'],\n",
    "    'test': test_val_ds['test']\n",
    "    })\n"
   ]
  },
  {
   "cell_type": "code",
   "execution_count": 3,
   "metadata": {},
   "outputs": [],
   "source": [
    "ds_splits_ru = get_ds_splits(lang=\"ru\")\n",
    "ds_splits_en = get_ds_splits(lang=\"en\")\n",
    "ds_splits_de = get_ds_splits(lang=\"de\")"
   ]
  },
  {
   "cell_type": "markdown",
   "metadata": {},
   "source": [
    "Функции для предобработки данных\n",
    "- Сохранение аудиозаписи \n",
    "- Сохранение транскрипции по аудиозаписи\n",
    "- Построение и сохранение спектрограммы"
   ]
  },
  {
   "cell_type": "code",
   "execution_count": 4,
   "metadata": {},
   "outputs": [],
   "source": [
    "current_dir = os.getcwd()\n",
    "\n",
    "def check_exists_path(path):\n",
    "    if not os.path.exists(path):\n",
    "        os.makedirs(f\"{current_dir}/{path}\")"
   ]
  },
  {
   "cell_type": "code",
   "execution_count": 5,
   "metadata": {},
   "outputs": [],
   "source": [
    "def save_audio(y, sr, path, name):\n",
    "    check_exists_path(path=path)\n",
    "    sf.write(file=f\"{path}/{name}.wav\", data=y, samplerate=sr, subtype=\"PCM_16\")"
   ]
  },
  {
   "cell_type": "code",
   "execution_count": 6,
   "metadata": {},
   "outputs": [],
   "source": [
    "def save_transcription(transcription, path, name):\n",
    "    check_exists_path(path=path)\n",
    "    with open(f\"{path}/{name}.txt\", \"w\", encoding=\"utf-8\") as file:\n",
    "            file.write(transcription)"
   ]
  },
  {
   "cell_type": "code",
   "execution_count": 7,
   "metadata": {},
   "outputs": [],
   "source": [
    "def save_spectrogram_image(y, sr, path, name):\n",
    "    check_exists_path(path=path)\n",
    "    S = librosa.feature.melspectrogram(y=y, sr=sr, n_mels=128)\n",
    "    log_S = librosa.amplitude_to_db(S)\n",
    "    plt.figure(figsize=(1,1))\n",
    "    librosa.display.specshow(log_S, sr=sr)\n",
    "    plt.savefig(f\"{path}/{name}.png\")\n",
    "    plt.close()"
   ]
  },
  {
   "cell_type": "code",
   "execution_count": 8,
   "metadata": {},
   "outputs": [],
   "source": [
    "def save_data(ds, split: str = \"train\", lang: str = \"ru\"):\n",
    "    audio_path = f\"data/{split}_audio/{lang}\"\n",
    "    transcription_path = f\"data/{split}_transcription/{lang}\"\n",
    "    spectrogram_path = f\"data/{split}_spectrogram/{lang}\"\n",
    "\n",
    "\n",
    "    for idx, item in tqdm(enumerate(ds[f\"{split}\"])):\n",
    "        y = item[\"audio\"][\"array\"]\n",
    "        sr = item[\"audio\"][\"sampling_rate\"]\n",
    "        transcription = item[\"transcription\"]\n",
    "        name = f\"{lang}_{split}_{idx}\"\n",
    "\n",
    "        # Сохраняем аудио\n",
    "        save_audio(y=y, sr=sr, path=audio_path, name=name)\n",
    "\n",
    "        # Сохраняем транскрипцию\n",
    "        save_transcription(transcription=transcription, path=transcription_path, name=name)\n",
    "\n",
    "        # Сохраняем спектрограмму\n",
    "        save_spectrogram_image(y=y, sr=sr, path=spectrogram_path, name=name)"
   ]
  },
  {
   "cell_type": "code",
   "execution_count": 9,
   "metadata": {},
   "outputs": [
    {
     "data": {
      "application/vnd.jupyter.widget-view+json": {
       "model_id": "f103daa208fa42e3888b020fd353eff1",
       "version_major": 2,
       "version_minor": 0
      },
      "text/plain": [
       "0it [00:00, ?it/s]"
      ]
     },
     "metadata": {},
     "output_type": "display_data"
    },
    {
     "data": {
      "application/vnd.jupyter.widget-view+json": {
       "model_id": "3475d08a9be940e5a08bc1210bd8c797",
       "version_major": 2,
       "version_minor": 0
      },
      "text/plain": [
       "0it [00:00, ?it/s]"
      ]
     },
     "metadata": {},
     "output_type": "display_data"
    },
    {
     "data": {
      "application/vnd.jupyter.widget-view+json": {
       "model_id": "c5cbe16efbfd4e50bb2583bbab0b9121",
       "version_major": 2,
       "version_minor": 0
      },
      "text/plain": [
       "0it [00:00, ?it/s]"
      ]
     },
     "metadata": {},
     "output_type": "display_data"
    }
   ],
   "source": [
    "save_data(ds=ds_splits_ru, split=\"train\", lang=\"ru\")\n",
    "save_data(ds=ds_splits_ru, split=\"valid\", lang=\"ru\")\n",
    "save_data(ds=ds_splits_ru, split=\"test\", lang=\"ru\")"
   ]
  },
  {
   "cell_type": "code",
   "execution_count": 10,
   "metadata": {},
   "outputs": [
    {
     "data": {
      "application/vnd.jupyter.widget-view+json": {
       "model_id": "f35f168f48e5486e93da13a439f4839e",
       "version_major": 2,
       "version_minor": 0
      },
      "text/plain": [
       "0it [00:00, ?it/s]"
      ]
     },
     "metadata": {},
     "output_type": "display_data"
    },
    {
     "data": {
      "application/vnd.jupyter.widget-view+json": {
       "model_id": "1218e7eff7c54affa424727cdd421519",
       "version_major": 2,
       "version_minor": 0
      },
      "text/plain": [
       "0it [00:00, ?it/s]"
      ]
     },
     "metadata": {},
     "output_type": "display_data"
    },
    {
     "data": {
      "application/vnd.jupyter.widget-view+json": {
       "model_id": "1b26cff99b394a22aec916c31cc572b6",
       "version_major": 2,
       "version_minor": 0
      },
      "text/plain": [
       "0it [00:00, ?it/s]"
      ]
     },
     "metadata": {},
     "output_type": "display_data"
    }
   ],
   "source": [
    "save_data(ds=ds_splits_en, split=\"train\", lang=\"en\")\n",
    "save_data(ds=ds_splits_en, split=\"valid\", lang=\"en\")\n",
    "save_data(ds=ds_splits_en, split=\"test\", lang=\"en\")"
   ]
  },
  {
   "cell_type": "code",
   "execution_count": 11,
   "metadata": {},
   "outputs": [
    {
     "data": {
      "application/vnd.jupyter.widget-view+json": {
       "model_id": "8854f2c3d12f4ba29ee36643f40e210d",
       "version_major": 2,
       "version_minor": 0
      },
      "text/plain": [
       "0it [00:00, ?it/s]"
      ]
     },
     "metadata": {},
     "output_type": "display_data"
    },
    {
     "data": {
      "application/vnd.jupyter.widget-view+json": {
       "model_id": "3da6236731d840f88e6e9b2df721578a",
       "version_major": 2,
       "version_minor": 0
      },
      "text/plain": [
       "0it [00:00, ?it/s]"
      ]
     },
     "metadata": {},
     "output_type": "display_data"
    },
    {
     "data": {
      "application/vnd.jupyter.widget-view+json": {
       "model_id": "cc4c84bca50f47a595fb5ca8d953f4f2",
       "version_major": 2,
       "version_minor": 0
      },
      "text/plain": [
       "0it [00:00, ?it/s]"
      ]
     },
     "metadata": {},
     "output_type": "display_data"
    }
   ],
   "source": [
    "save_data(ds=ds_splits_de, split=\"train\", lang=\"de\")\n",
    "save_data(ds=ds_splits_de, split=\"valid\", lang=\"de\")\n",
    "save_data(ds=ds_splits_de, split=\"test\", lang=\"de\")"
   ]
  }
 ],
 "metadata": {
  "kernelspec": {
   "display_name": ".venv",
   "language": "python",
   "name": "python3"
  },
  "language_info": {
   "codemirror_mode": {
    "name": "ipython",
    "version": 3
   },
   "file_extension": ".py",
   "mimetype": "text/x-python",
   "name": "python",
   "nbconvert_exporter": "python",
   "pygments_lexer": "ipython3",
   "version": "3.10.7"
  }
 },
 "nbformat": 4,
 "nbformat_minor": 2
}
